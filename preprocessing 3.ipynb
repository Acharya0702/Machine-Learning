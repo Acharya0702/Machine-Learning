{
 "cells": [
  {
   "cell_type": "code",
   "execution_count": 131,
   "metadata": {},
   "outputs": [],
   "source": [
    "import pandas as pd\n",
    "import numpy as np"
   ]
  },
  {
   "cell_type": "markdown",
   "metadata": {},
   "source": [
    "## Extracting features of 2018 movies from Wikipedia"
   ]
  },
  {
   "cell_type": "code",
   "execution_count": 132,
   "metadata": {},
   "outputs": [],
   "source": [
    "link = \"https://en.wikipedia.org/wiki/List_of_American_films_of_2018\"\n",
    "df1 = pd.read_html(link, header=0)[2]\n",
    "df2 = pd.read_html(link, header=0)[3]\n",
    "df3 = pd.read_html(link, header=0)[4]\n",
    "df4 = pd.read_html(link, header=0)[5]"
   ]
  },
  {
   "cell_type": "code",
   "execution_count": 133,
   "metadata": {
    "scrolled": true
   },
   "outputs": [],
   "source": [
    "df = df1.append(df2.append(df3.append(df4,ignore_index=True),ignore_index=True),ignore_index=True)"
   ]
  },
  {
   "cell_type": "code",
   "execution_count": 134,
   "metadata": {},
   "outputs": [
    {
     "output_type": "execute_result",
     "data": {
      "text/plain": [
       "   Opening  Opening.1                    Title  \\\n",
       "0  JANUARY          5  Insidious: The Last Key   \n",
       "1  JANUARY          5         The Strange Ones   \n",
       "2  JANUARY          5                 Stratton   \n",
       "3  JANUARY         10            Sweet Country   \n",
       "4  JANUARY         12             The Commuter   \n",
       "\n",
       "                                  Production company  \\\n",
       "0  Universal Pictures / Blumhouse Productions / S...   \n",
       "1                             Vertical Entertainment   \n",
       "2                                  Momentum Pictures   \n",
       "3                               Samuel Goldwyn Films   \n",
       "4      Lionsgate / StudioCanal / The Picture Company   \n",
       "\n",
       "                                       Cast and crew Ref.  \n",
       "0  Adam Robitel (director); Leigh Whannell (scree...  [2]  \n",
       "1  Lauren Wolkstein (director); Christopher Radcl...  [3]  \n",
       "2  Simon West (director); Duncan Falconer, Warren...  [4]  \n",
       "3  Warwick Thornton (director); David Tranter, St...  [5]  \n",
       "4  Jaume Collet-Serra (director); Byron Willinger...  [6]  "
      ],
      "text/html": "<div>\n<style scoped>\n    .dataframe tbody tr th:only-of-type {\n        vertical-align: middle;\n    }\n\n    .dataframe tbody tr th {\n        vertical-align: top;\n    }\n\n    .dataframe thead th {\n        text-align: right;\n    }\n</style>\n<table border=\"1\" class=\"dataframe\">\n  <thead>\n    <tr style=\"text-align: right;\">\n      <th></th>\n      <th>Opening</th>\n      <th>Opening.1</th>\n      <th>Title</th>\n      <th>Production company</th>\n      <th>Cast and crew</th>\n      <th>Ref.</th>\n    </tr>\n  </thead>\n  <tbody>\n    <tr>\n      <th>0</th>\n      <td>JANUARY</td>\n      <td>5</td>\n      <td>Insidious: The Last Key</td>\n      <td>Universal Pictures / Blumhouse Productions / S...</td>\n      <td>Adam Robitel (director); Leigh Whannell (scree...</td>\n      <td>[2]</td>\n    </tr>\n    <tr>\n      <th>1</th>\n      <td>JANUARY</td>\n      <td>5</td>\n      <td>The Strange Ones</td>\n      <td>Vertical Entertainment</td>\n      <td>Lauren Wolkstein (director); Christopher Radcl...</td>\n      <td>[3]</td>\n    </tr>\n    <tr>\n      <th>2</th>\n      <td>JANUARY</td>\n      <td>5</td>\n      <td>Stratton</td>\n      <td>Momentum Pictures</td>\n      <td>Simon West (director); Duncan Falconer, Warren...</td>\n      <td>[4]</td>\n    </tr>\n    <tr>\n      <th>3</th>\n      <td>JANUARY</td>\n      <td>10</td>\n      <td>Sweet Country</td>\n      <td>Samuel Goldwyn Films</td>\n      <td>Warwick Thornton (director); David Tranter, St...</td>\n      <td>[5]</td>\n    </tr>\n    <tr>\n      <th>4</th>\n      <td>JANUARY</td>\n      <td>12</td>\n      <td>The Commuter</td>\n      <td>Lionsgate / StudioCanal / The Picture Company</td>\n      <td>Jaume Collet-Serra (director); Byron Willinger...</td>\n      <td>[6]</td>\n    </tr>\n  </tbody>\n</table>\n</div>"
     },
     "metadata": {},
     "execution_count": 134
    }
   ],
   "source": [
    "df.head()"
   ]
  },
  {
   "cell_type": "code",
   "execution_count": 135,
   "metadata": {},
   "outputs": [],
   "source": [
    "from tmdbv3api import TMDb\n",
    "import json\n",
    "import requests\n",
    "tmdb = TMDb()\n",
    "tmdb.api_key = '58829adce58ecc066162c972cfe72689'"
   ]
  },
  {
   "cell_type": "code",
   "execution_count": 136,
   "metadata": {},
   "outputs": [],
   "source": [
    "from tmdbv3api import Movie\n",
    "tmdb_movie = Movie()\n",
    "def get_genre(x):\n",
    "    genres = []\n",
    "    result = tmdb_movie.search(x)\n",
    "    movie_id = result[0].id\n",
    "    response = requests.get('https://api.themoviedb.org/3/movie/550?api_key=58829adce58ecc066162c972cfe72689')\n",
    "    data_json = response.json()\n",
    "    if data_json['genres']:\n",
    "        genre_str = \" \" \n",
    "        for i in range(0,len(data_json['genres'])):\n",
    "            genres.append(data_json['genres'][i]['name'])\n",
    "        return genre_str.join(genres)\n",
    "    else:\n",
    "        np.NaN"
   ]
  },
  {
   "cell_type": "code",
   "execution_count": 137,
   "metadata": {},
   "outputs": [],
   "source": [
    "df['genres'] = df['Title'].map(lambda x: get_genre(str(x)))"
   ]
  },
  {
   "cell_type": "code",
   "execution_count": 138,
   "metadata": {},
   "outputs": [
    {
     "output_type": "execute_result",
     "data": {
      "text/plain": [
       "   Opening  Opening.1                    Title  \\\n",
       "0  JANUARY          5  Insidious: The Last Key   \n",
       "1  JANUARY          5         The Strange Ones   \n",
       "2  JANUARY          5                 Stratton   \n",
       "3  JANUARY         10            Sweet Country   \n",
       "4  JANUARY         12             The Commuter   \n",
       "\n",
       "                                  Production company  \\\n",
       "0  Universal Pictures / Blumhouse Productions / S...   \n",
       "1                             Vertical Entertainment   \n",
       "2                                  Momentum Pictures   \n",
       "3                               Samuel Goldwyn Films   \n",
       "4      Lionsgate / StudioCanal / The Picture Company   \n",
       "\n",
       "                                       Cast and crew Ref. genres  \n",
       "0  Adam Robitel (director); Leigh Whannell (scree...  [2]  Drama  \n",
       "1  Lauren Wolkstein (director); Christopher Radcl...  [3]  Drama  \n",
       "2  Simon West (director); Duncan Falconer, Warren...  [4]  Drama  \n",
       "3  Warwick Thornton (director); David Tranter, St...  [5]  Drama  \n",
       "4  Jaume Collet-Serra (director); Byron Willinger...  [6]  Drama  "
      ],
      "text/html": "<div>\n<style scoped>\n    .dataframe tbody tr th:only-of-type {\n        vertical-align: middle;\n    }\n\n    .dataframe tbody tr th {\n        vertical-align: top;\n    }\n\n    .dataframe thead th {\n        text-align: right;\n    }\n</style>\n<table border=\"1\" class=\"dataframe\">\n  <thead>\n    <tr style=\"text-align: right;\">\n      <th></th>\n      <th>Opening</th>\n      <th>Opening.1</th>\n      <th>Title</th>\n      <th>Production company</th>\n      <th>Cast and crew</th>\n      <th>Ref.</th>\n      <th>genres</th>\n    </tr>\n  </thead>\n  <tbody>\n    <tr>\n      <th>0</th>\n      <td>JANUARY</td>\n      <td>5</td>\n      <td>Insidious: The Last Key</td>\n      <td>Universal Pictures / Blumhouse Productions / S...</td>\n      <td>Adam Robitel (director); Leigh Whannell (scree...</td>\n      <td>[2]</td>\n      <td>Drama</td>\n    </tr>\n    <tr>\n      <th>1</th>\n      <td>JANUARY</td>\n      <td>5</td>\n      <td>The Strange Ones</td>\n      <td>Vertical Entertainment</td>\n      <td>Lauren Wolkstein (director); Christopher Radcl...</td>\n      <td>[3]</td>\n      <td>Drama</td>\n    </tr>\n    <tr>\n      <th>2</th>\n      <td>JANUARY</td>\n      <td>5</td>\n      <td>Stratton</td>\n      <td>Momentum Pictures</td>\n      <td>Simon West (director); Duncan Falconer, Warren...</td>\n      <td>[4]</td>\n      <td>Drama</td>\n    </tr>\n    <tr>\n      <th>3</th>\n      <td>JANUARY</td>\n      <td>10</td>\n      <td>Sweet Country</td>\n      <td>Samuel Goldwyn Films</td>\n      <td>Warwick Thornton (director); David Tranter, St...</td>\n      <td>[5]</td>\n      <td>Drama</td>\n    </tr>\n    <tr>\n      <th>4</th>\n      <td>JANUARY</td>\n      <td>12</td>\n      <td>The Commuter</td>\n      <td>Lionsgate / StudioCanal / The Picture Company</td>\n      <td>Jaume Collet-Serra (director); Byron Willinger...</td>\n      <td>[6]</td>\n      <td>Drama</td>\n    </tr>\n  </tbody>\n</table>\n</div>"
     },
     "metadata": {},
     "execution_count": 138
    }
   ],
   "source": [
    "df.head()"
   ]
  },
  {
   "cell_type": "code",
   "execution_count": 139,
   "metadata": {},
   "outputs": [],
   "source": [
    "df_2018 = df[['Title','Cast and crew','genres']]"
   ]
  },
  {
   "cell_type": "code",
   "execution_count": 140,
   "metadata": {},
   "outputs": [
    {
     "output_type": "execute_result",
     "data": {
      "text/plain": [
       "                     Title                                      Cast and crew  \\\n",
       "0  Insidious: The Last Key  Adam Robitel (director); Leigh Whannell (scree...   \n",
       "1         The Strange Ones  Lauren Wolkstein (director); Christopher Radcl...   \n",
       "2                 Stratton  Simon West (director); Duncan Falconer, Warren...   \n",
       "3            Sweet Country  Warwick Thornton (director); David Tranter, St...   \n",
       "4             The Commuter  Jaume Collet-Serra (director); Byron Willinger...   \n",
       "\n",
       "  genres  \n",
       "0  Drama  \n",
       "1  Drama  \n",
       "2  Drama  \n",
       "3  Drama  \n",
       "4  Drama  "
      ],
      "text/html": "<div>\n<style scoped>\n    .dataframe tbody tr th:only-of-type {\n        vertical-align: middle;\n    }\n\n    .dataframe tbody tr th {\n        vertical-align: top;\n    }\n\n    .dataframe thead th {\n        text-align: right;\n    }\n</style>\n<table border=\"1\" class=\"dataframe\">\n  <thead>\n    <tr style=\"text-align: right;\">\n      <th></th>\n      <th>Title</th>\n      <th>Cast and crew</th>\n      <th>genres</th>\n    </tr>\n  </thead>\n  <tbody>\n    <tr>\n      <th>0</th>\n      <td>Insidious: The Last Key</td>\n      <td>Adam Robitel (director); Leigh Whannell (scree...</td>\n      <td>Drama</td>\n    </tr>\n    <tr>\n      <th>1</th>\n      <td>The Strange Ones</td>\n      <td>Lauren Wolkstein (director); Christopher Radcl...</td>\n      <td>Drama</td>\n    </tr>\n    <tr>\n      <th>2</th>\n      <td>Stratton</td>\n      <td>Simon West (director); Duncan Falconer, Warren...</td>\n      <td>Drama</td>\n    </tr>\n    <tr>\n      <th>3</th>\n      <td>Sweet Country</td>\n      <td>Warwick Thornton (director); David Tranter, St...</td>\n      <td>Drama</td>\n    </tr>\n    <tr>\n      <th>4</th>\n      <td>The Commuter</td>\n      <td>Jaume Collet-Serra (director); Byron Willinger...</td>\n      <td>Drama</td>\n    </tr>\n  </tbody>\n</table>\n</div>"
     },
     "metadata": {},
     "execution_count": 140
    }
   ],
   "source": [
    "df_2018.head()"
   ]
  },
  {
   "cell_type": "code",
   "execution_count": 142,
   "metadata": {},
   "outputs": [
    {
     "output_type": "execute_result",
     "data": {
      "text/plain": [
       "0    Adam Robitel (director); Leigh Whannell (scree...\n",
       "1    Lauren Wolkstein (director); Christopher Radcl...\n",
       "2    Simon West (director); Duncan Falconer, Warren...\n",
       "3    Warwick Thornton (director); David Tranter, St...\n",
       "4    Jaume Collet-Serra (director); Byron Willinger...\n",
       "Name: Cast and crew, dtype: object"
      ]
     },
     "metadata": {},
     "execution_count": 142
    }
   ],
   "source": [
    "df_2018['Cast and crew'].head()"
   ]
  },
  {
   "cell_type": "code",
   "execution_count": 143,
   "metadata": {},
   "outputs": [],
   "source": [
    "def get_director(x):\n",
    "    if \" (director)\" in x:\n",
    "        return x.split(\" (director)\")[0]\n",
    "    elif \" (directors)\" in x:\n",
    "        return x.split(\" (directors)\")[0]\n",
    "    else:\n",
    "        return x.split(\" (director/screenplay)\")[0]"
   ]
  },
  {
   "cell_type": "code",
   "execution_count": 144,
   "metadata": {},
   "outputs": [
    {
     "output_type": "stream",
     "name": "stderr",
     "text": [
      "C:\\Users\\Gaurishankar\\Anaconda3\\lib\\site-packages\\ipykernel_launcher.py:1: SettingWithCopyWarning: \nA value is trying to be set on a copy of a slice from a DataFrame.\nTry using .loc[row_indexer,col_indexer] = value instead\n\nSee the caveats in the documentation: http://pandas.pydata.org/pandas-docs/stable/indexing.html#indexing-view-versus-copy\n  \"\"\"Entry point for launching an IPython kernel.\n"
     ]
    }
   ],
   "source": [
    "df_2018['director_name'] = df_2018['Cast and crew'].map(lambda x: get_director(x))"
   ]
  },
  {
   "cell_type": "code",
   "execution_count": 145,
   "metadata": {},
   "outputs": [],
   "source": [
    "def get_actor1(x):\n",
    "    return ((x.split(\"screenplay); \")[-1]).split(\", \")[0])"
   ]
  },
  {
   "cell_type": "code",
   "execution_count": 146,
   "metadata": {
    "scrolled": true
   },
   "outputs": [
    {
     "output_type": "stream",
     "name": "stderr",
     "text": [
      "C:\\Users\\Gaurishankar\\Anaconda3\\lib\\site-packages\\ipykernel_launcher.py:1: SettingWithCopyWarning: \nA value is trying to be set on a copy of a slice from a DataFrame.\nTry using .loc[row_indexer,col_indexer] = value instead\n\nSee the caveats in the documentation: http://pandas.pydata.org/pandas-docs/stable/indexing.html#indexing-view-versus-copy\n  \"\"\"Entry point for launching an IPython kernel.\n"
     ]
    }
   ],
   "source": [
    "df_2018['actor_1_name'] = df_2018['Cast and crew'].map(lambda x: get_actor1(x))"
   ]
  },
  {
   "cell_type": "code",
   "execution_count": 147,
   "metadata": {},
   "outputs": [],
   "source": [
    "def get_actor2(x):\n",
    "    if len((x.split(\"screenplay); \")[-1]).split(\", \")) < 2:\n",
    "        return np.NaN\n",
    "    else:\n",
    "        return ((x.split(\"screenplay); \")[-1]).split(\", \")[1])"
   ]
  },
  {
   "cell_type": "code",
   "execution_count": 148,
   "metadata": {},
   "outputs": [
    {
     "output_type": "stream",
     "name": "stderr",
     "text": [
      "C:\\Users\\Gaurishankar\\Anaconda3\\lib\\site-packages\\ipykernel_launcher.py:1: SettingWithCopyWarning: \nA value is trying to be set on a copy of a slice from a DataFrame.\nTry using .loc[row_indexer,col_indexer] = value instead\n\nSee the caveats in the documentation: http://pandas.pydata.org/pandas-docs/stable/indexing.html#indexing-view-versus-copy\n  \"\"\"Entry point for launching an IPython kernel.\n"
     ]
    }
   ],
   "source": [
    "df_2018['actor_2_name'] = df_2018['Cast and crew'].map(lambda x: get_actor2(x))"
   ]
  },
  {
   "cell_type": "code",
   "execution_count": 150,
   "metadata": {},
   "outputs": [
    {
     "output_type": "execute_result",
     "data": {
      "text/plain": [
       "                     Title                                      Cast and crew  \\\n",
       "0  Insidious: The Last Key  Adam Robitel (director); Leigh Whannell (scree...   \n",
       "1         The Strange Ones  Lauren Wolkstein (director); Christopher Radcl...   \n",
       "2                 Stratton  Simon West (director); Duncan Falconer, Warren...   \n",
       "3            Sweet Country  Warwick Thornton (director); David Tranter, St...   \n",
       "4             The Commuter  Jaume Collet-Serra (director); Byron Willinger...   \n",
       "\n",
       "  genres       director_name    actor_1_name            actor_2_name  \n",
       "0  Drama        Adam Robitel       Lin Shaye           Angus Sampson  \n",
       "1  Drama    Lauren Wolkstein   Alex Pettyfer  James Freedson-Jackson  \n",
       "2  Drama          Simon West  Dominic Cooper          Austin Stowell  \n",
       "3  Drama    Warwick Thornton     Bryan Brown               Sam Neill  \n",
       "4  Drama  Jaume Collet-Serra     Liam Neeson            Vera Farmiga  "
      ],
      "text/html": "<div>\n<style scoped>\n    .dataframe tbody tr th:only-of-type {\n        vertical-align: middle;\n    }\n\n    .dataframe tbody tr th {\n        vertical-align: top;\n    }\n\n    .dataframe thead th {\n        text-align: right;\n    }\n</style>\n<table border=\"1\" class=\"dataframe\">\n  <thead>\n    <tr style=\"text-align: right;\">\n      <th></th>\n      <th>Title</th>\n      <th>Cast and crew</th>\n      <th>genres</th>\n      <th>director_name</th>\n      <th>actor_1_name</th>\n      <th>actor_2_name</th>\n    </tr>\n  </thead>\n  <tbody>\n    <tr>\n      <th>0</th>\n      <td>Insidious: The Last Key</td>\n      <td>Adam Robitel (director); Leigh Whannell (scree...</td>\n      <td>Drama</td>\n      <td>Adam Robitel</td>\n      <td>Lin Shaye</td>\n      <td>Angus Sampson</td>\n    </tr>\n    <tr>\n      <th>1</th>\n      <td>The Strange Ones</td>\n      <td>Lauren Wolkstein (director); Christopher Radcl...</td>\n      <td>Drama</td>\n      <td>Lauren Wolkstein</td>\n      <td>Alex Pettyfer</td>\n      <td>James Freedson-Jackson</td>\n    </tr>\n    <tr>\n      <th>2</th>\n      <td>Stratton</td>\n      <td>Simon West (director); Duncan Falconer, Warren...</td>\n      <td>Drama</td>\n      <td>Simon West</td>\n      <td>Dominic Cooper</td>\n      <td>Austin Stowell</td>\n    </tr>\n    <tr>\n      <th>3</th>\n      <td>Sweet Country</td>\n      <td>Warwick Thornton (director); David Tranter, St...</td>\n      <td>Drama</td>\n      <td>Warwick Thornton</td>\n      <td>Bryan Brown</td>\n      <td>Sam Neill</td>\n    </tr>\n    <tr>\n      <th>4</th>\n      <td>The Commuter</td>\n      <td>Jaume Collet-Serra (director); Byron Willinger...</td>\n      <td>Drama</td>\n      <td>Jaume Collet-Serra</td>\n      <td>Liam Neeson</td>\n      <td>Vera Farmiga</td>\n    </tr>\n  </tbody>\n</table>\n</div>"
     },
     "metadata": {},
     "execution_count": 150
    }
   ],
   "source": [
    "df_2018.head()"
   ]
  },
  {
   "cell_type": "code",
   "execution_count": 151,
   "metadata": {},
   "outputs": [],
   "source": [
    "def get_actor3(x):\n",
    "    if len((x.split(\"screenplay); \")[-1]).split(\", \")) < 3:\n",
    "        return np.NaN\n",
    "    else:\n",
    "        return ((x.split(\"screenplay); \")[-1]).split(\", \")[2])"
   ]
  },
  {
   "cell_type": "code",
   "execution_count": 152,
   "metadata": {},
   "outputs": [],
   "source": [
    "df_2018['actor_3_name'] = df_2018['Cast and crew'].map(lambda x: get_actor3(x))"
   ]
  },
  {
   "cell_type": "code",
   "execution_count": 153,
   "metadata": {},
   "outputs": [
    {
     "output_type": "execute_result",
     "data": {
      "text/plain": [
       "                     Title                                      Cast and crew  \\\n",
       "0  Insidious: The Last Key  Adam Robitel (director); Leigh Whannell (scree...   \n",
       "1         The Strange Ones  Lauren Wolkstein (director); Christopher Radcl...   \n",
       "2                 Stratton  Simon West (director); Duncan Falconer, Warren...   \n",
       "3            Sweet Country  Warwick Thornton (director); David Tranter, St...   \n",
       "4             The Commuter  Jaume Collet-Serra (director); Byron Willinger...   \n",
       "\n",
       "  genres       director_name    actor_1_name            actor_2_name  \\\n",
       "0  Drama        Adam Robitel       Lin Shaye           Angus Sampson   \n",
       "1  Drama    Lauren Wolkstein   Alex Pettyfer  James Freedson-Jackson   \n",
       "2  Drama          Simon West  Dominic Cooper          Austin Stowell   \n",
       "3  Drama    Warwick Thornton     Bryan Brown               Sam Neill   \n",
       "4  Drama  Jaume Collet-Serra     Liam Neeson            Vera Farmiga   \n",
       "\n",
       "     actor_3_name  \n",
       "0  Leigh Whannell  \n",
       "1   Emily Althaus  \n",
       "2      Gemma Chan  \n",
       "3             NaN  \n",
       "4  Patrick Wilson  "
      ],
      "text/html": "<div>\n<style scoped>\n    .dataframe tbody tr th:only-of-type {\n        vertical-align: middle;\n    }\n\n    .dataframe tbody tr th {\n        vertical-align: top;\n    }\n\n    .dataframe thead th {\n        text-align: right;\n    }\n</style>\n<table border=\"1\" class=\"dataframe\">\n  <thead>\n    <tr style=\"text-align: right;\">\n      <th></th>\n      <th>Title</th>\n      <th>Cast and crew</th>\n      <th>genres</th>\n      <th>director_name</th>\n      <th>actor_1_name</th>\n      <th>actor_2_name</th>\n      <th>actor_3_name</th>\n    </tr>\n  </thead>\n  <tbody>\n    <tr>\n      <th>0</th>\n      <td>Insidious: The Last Key</td>\n      <td>Adam Robitel (director); Leigh Whannell (scree...</td>\n      <td>Drama</td>\n      <td>Adam Robitel</td>\n      <td>Lin Shaye</td>\n      <td>Angus Sampson</td>\n      <td>Leigh Whannell</td>\n    </tr>\n    <tr>\n      <th>1</th>\n      <td>The Strange Ones</td>\n      <td>Lauren Wolkstein (director); Christopher Radcl...</td>\n      <td>Drama</td>\n      <td>Lauren Wolkstein</td>\n      <td>Alex Pettyfer</td>\n      <td>James Freedson-Jackson</td>\n      <td>Emily Althaus</td>\n    </tr>\n    <tr>\n      <th>2</th>\n      <td>Stratton</td>\n      <td>Simon West (director); Duncan Falconer, Warren...</td>\n      <td>Drama</td>\n      <td>Simon West</td>\n      <td>Dominic Cooper</td>\n      <td>Austin Stowell</td>\n      <td>Gemma Chan</td>\n    </tr>\n    <tr>\n      <th>3</th>\n      <td>Sweet Country</td>\n      <td>Warwick Thornton (director); David Tranter, St...</td>\n      <td>Drama</td>\n      <td>Warwick Thornton</td>\n      <td>Bryan Brown</td>\n      <td>Sam Neill</td>\n      <td>NaN</td>\n    </tr>\n    <tr>\n      <th>4</th>\n      <td>The Commuter</td>\n      <td>Jaume Collet-Serra (director); Byron Willinger...</td>\n      <td>Drama</td>\n      <td>Jaume Collet-Serra</td>\n      <td>Liam Neeson</td>\n      <td>Vera Farmiga</td>\n      <td>Patrick Wilson</td>\n    </tr>\n  </tbody>\n</table>\n</div>"
     },
     "metadata": {},
     "execution_count": 153
    }
   ],
   "source": [
    "df_2018.head()"
   ]
  },
  {
   "cell_type": "code",
   "execution_count": 80,
   "metadata": {},
   "outputs": [],
   "source": [
    "df_2018 = df_2018.rename(columns={'Title':'movie_title'})"
   ]
  },
  {
   "cell_type": "code",
   "execution_count": 81,
   "metadata": {},
   "outputs": [],
   "source": [
    "new_df18 = df_2018.loc[:,['director_name','actor_1_name','actor_2_name','actor_3_name','genres','movie_title']]"
   ]
  },
  {
   "cell_type": "code",
   "execution_count": 82,
   "metadata": {},
   "outputs": [
    {
     "output_type": "execute_result",
     "data": {
      "text/plain": [
       "        director_name    actor_1_name            actor_2_name    actor_3_name  \\\n",
       "0        Adam Robitel       Lin Shaye           Angus Sampson  Leigh Whannell   \n",
       "1    Lauren Wolkstein   Alex Pettyfer  James Freedson-Jackson   Emily Althaus   \n",
       "2          Simon West  Dominic Cooper          Austin Stowell      Gemma Chan   \n",
       "3    Warwick Thornton     Bryan Brown               Sam Neill             NaN   \n",
       "4  Jaume Collet-Serra     Liam Neeson            Vera Farmiga  Patrick Wilson   \n",
       "\n",
       "  genres              movie_title  \n",
       "0  Drama  Insidious: The Last Key  \n",
       "1  Drama         The Strange Ones  \n",
       "2  Drama                 Stratton  \n",
       "3  Drama            Sweet Country  \n",
       "4  Drama             The Commuter  "
      ],
      "text/html": "<div>\n<style scoped>\n    .dataframe tbody tr th:only-of-type {\n        vertical-align: middle;\n    }\n\n    .dataframe tbody tr th {\n        vertical-align: top;\n    }\n\n    .dataframe thead th {\n        text-align: right;\n    }\n</style>\n<table border=\"1\" class=\"dataframe\">\n  <thead>\n    <tr style=\"text-align: right;\">\n      <th></th>\n      <th>director_name</th>\n      <th>actor_1_name</th>\n      <th>actor_2_name</th>\n      <th>actor_3_name</th>\n      <th>genres</th>\n      <th>movie_title</th>\n    </tr>\n  </thead>\n  <tbody>\n    <tr>\n      <th>0</th>\n      <td>Adam Robitel</td>\n      <td>Lin Shaye</td>\n      <td>Angus Sampson</td>\n      <td>Leigh Whannell</td>\n      <td>Drama</td>\n      <td>Insidious: The Last Key</td>\n    </tr>\n    <tr>\n      <th>1</th>\n      <td>Lauren Wolkstein</td>\n      <td>Alex Pettyfer</td>\n      <td>James Freedson-Jackson</td>\n      <td>Emily Althaus</td>\n      <td>Drama</td>\n      <td>The Strange Ones</td>\n    </tr>\n    <tr>\n      <th>2</th>\n      <td>Simon West</td>\n      <td>Dominic Cooper</td>\n      <td>Austin Stowell</td>\n      <td>Gemma Chan</td>\n      <td>Drama</td>\n      <td>Stratton</td>\n    </tr>\n    <tr>\n      <th>3</th>\n      <td>Warwick Thornton</td>\n      <td>Bryan Brown</td>\n      <td>Sam Neill</td>\n      <td>NaN</td>\n      <td>Drama</td>\n      <td>Sweet Country</td>\n    </tr>\n    <tr>\n      <th>4</th>\n      <td>Jaume Collet-Serra</td>\n      <td>Liam Neeson</td>\n      <td>Vera Farmiga</td>\n      <td>Patrick Wilson</td>\n      <td>Drama</td>\n      <td>The Commuter</td>\n    </tr>\n  </tbody>\n</table>\n</div>"
     },
     "metadata": {},
     "execution_count": 82
    }
   ],
   "source": [
    "new_df18.head()"
   ]
  },
  {
   "cell_type": "code",
   "execution_count": 154,
   "metadata": {},
   "outputs": [],
   "source": [
    "new_df18['actor_2_name'] = new_df18['actor_2_name'].replace(np.nan, 'unknown')\n",
    "new_df18['actor_3_name'] = new_df18['actor_3_name'].replace(np.nan, 'unknown')"
   ]
  },
  {
   "cell_type": "code",
   "execution_count": 155,
   "metadata": {},
   "outputs": [],
   "source": [
    "new_df18['movie_title'] = new_df18['movie_title'].str.lower()"
   ]
  },
  {
   "cell_type": "code",
   "execution_count": 156,
   "metadata": {},
   "outputs": [
    {
     "output_type": "execute_result",
     "data": {
      "text/plain": [
       "        director_name    actor_1_name            actor_2_name    actor_3_name  \\\n",
       "0        Adam Robitel       Lin Shaye           Angus Sampson  Leigh Whannell   \n",
       "1    Lauren Wolkstein   Alex Pettyfer  James Freedson-Jackson   Emily Althaus   \n",
       "2          Simon West  Dominic Cooper          Austin Stowell      Gemma Chan   \n",
       "3    Warwick Thornton     Bryan Brown               Sam Neill         unknown   \n",
       "4  Jaume Collet-Serra     Liam Neeson            Vera Farmiga  Patrick Wilson   \n",
       "\n",
       "  genres              movie_title  \\\n",
       "0  Drama  insidious: the last key   \n",
       "1  Drama         the strange ones   \n",
       "2  Drama                 stratton   \n",
       "3  Drama            sweet country   \n",
       "4  Drama             the commuter   \n",
       "\n",
       "                                                comb  \n",
       "0  Lin Shaye Angus Sampson Leigh Whannell Adam Ro...  \n",
       "1  Alex Pettyfer James Freedson-Jackson Emily Alt...  \n",
       "2  Dominic Cooper Austin Stowell Gemma Chan Simon...  \n",
       "3  Bryan Brown Sam Neill unknown Warwick Thornton...  \n",
       "4  Liam Neeson Vera Farmiga Patrick Wilson Jaume ...  "
      ],
      "text/html": "<div>\n<style scoped>\n    .dataframe tbody tr th:only-of-type {\n        vertical-align: middle;\n    }\n\n    .dataframe tbody tr th {\n        vertical-align: top;\n    }\n\n    .dataframe thead th {\n        text-align: right;\n    }\n</style>\n<table border=\"1\" class=\"dataframe\">\n  <thead>\n    <tr style=\"text-align: right;\">\n      <th></th>\n      <th>director_name</th>\n      <th>actor_1_name</th>\n      <th>actor_2_name</th>\n      <th>actor_3_name</th>\n      <th>genres</th>\n      <th>movie_title</th>\n      <th>comb</th>\n    </tr>\n  </thead>\n  <tbody>\n    <tr>\n      <th>0</th>\n      <td>Adam Robitel</td>\n      <td>Lin Shaye</td>\n      <td>Angus Sampson</td>\n      <td>Leigh Whannell</td>\n      <td>Drama</td>\n      <td>insidious: the last key</td>\n      <td>Lin Shaye Angus Sampson Leigh Whannell Adam Ro...</td>\n    </tr>\n    <tr>\n      <th>1</th>\n      <td>Lauren Wolkstein</td>\n      <td>Alex Pettyfer</td>\n      <td>James Freedson-Jackson</td>\n      <td>Emily Althaus</td>\n      <td>Drama</td>\n      <td>the strange ones</td>\n      <td>Alex Pettyfer James Freedson-Jackson Emily Alt...</td>\n    </tr>\n    <tr>\n      <th>2</th>\n      <td>Simon West</td>\n      <td>Dominic Cooper</td>\n      <td>Austin Stowell</td>\n      <td>Gemma Chan</td>\n      <td>Drama</td>\n      <td>stratton</td>\n      <td>Dominic Cooper Austin Stowell Gemma Chan Simon...</td>\n    </tr>\n    <tr>\n      <th>3</th>\n      <td>Warwick Thornton</td>\n      <td>Bryan Brown</td>\n      <td>Sam Neill</td>\n      <td>unknown</td>\n      <td>Drama</td>\n      <td>sweet country</td>\n      <td>Bryan Brown Sam Neill unknown Warwick Thornton...</td>\n    </tr>\n    <tr>\n      <th>4</th>\n      <td>Jaume Collet-Serra</td>\n      <td>Liam Neeson</td>\n      <td>Vera Farmiga</td>\n      <td>Patrick Wilson</td>\n      <td>Drama</td>\n      <td>the commuter</td>\n      <td>Liam Neeson Vera Farmiga Patrick Wilson Jaume ...</td>\n    </tr>\n  </tbody>\n</table>\n</div>"
     },
     "metadata": {},
     "execution_count": 156
    }
   ],
   "source": [
    "new_df18.head()"
   ]
  },
  {
   "cell_type": "code",
   "execution_count": 157,
   "metadata": {},
   "outputs": [],
   "source": [
    "new_df18['comb'] = new_df18['actor_1_name'] + ' ' + new_df18['actor_2_name'] + ' '+ new_df18['actor_3_name'] + ' '+ new_df18['director_name'] +' ' + new_df18['genres']"
   ]
  },
  {
   "cell_type": "code",
   "execution_count": 158,
   "metadata": {},
   "outputs": [
    {
     "output_type": "execute_result",
     "data": {
      "text/plain": [
       "        director_name    actor_1_name            actor_2_name    actor_3_name  \\\n",
       "0        Adam Robitel       Lin Shaye           Angus Sampson  Leigh Whannell   \n",
       "1    Lauren Wolkstein   Alex Pettyfer  James Freedson-Jackson   Emily Althaus   \n",
       "2          Simon West  Dominic Cooper          Austin Stowell      Gemma Chan   \n",
       "3    Warwick Thornton     Bryan Brown               Sam Neill         unknown   \n",
       "4  Jaume Collet-Serra     Liam Neeson            Vera Farmiga  Patrick Wilson   \n",
       "\n",
       "  genres              movie_title  \\\n",
       "0  Drama  insidious: the last key   \n",
       "1  Drama         the strange ones   \n",
       "2  Drama                 stratton   \n",
       "3  Drama            sweet country   \n",
       "4  Drama             the commuter   \n",
       "\n",
       "                                                comb  \n",
       "0  Lin Shaye Angus Sampson Leigh Whannell Adam Ro...  \n",
       "1  Alex Pettyfer James Freedson-Jackson Emily Alt...  \n",
       "2  Dominic Cooper Austin Stowell Gemma Chan Simon...  \n",
       "3  Bryan Brown Sam Neill unknown Warwick Thornton...  \n",
       "4  Liam Neeson Vera Farmiga Patrick Wilson Jaume ...  "
      ],
      "text/html": "<div>\n<style scoped>\n    .dataframe tbody tr th:only-of-type {\n        vertical-align: middle;\n    }\n\n    .dataframe tbody tr th {\n        vertical-align: top;\n    }\n\n    .dataframe thead th {\n        text-align: right;\n    }\n</style>\n<table border=\"1\" class=\"dataframe\">\n  <thead>\n    <tr style=\"text-align: right;\">\n      <th></th>\n      <th>director_name</th>\n      <th>actor_1_name</th>\n      <th>actor_2_name</th>\n      <th>actor_3_name</th>\n      <th>genres</th>\n      <th>movie_title</th>\n      <th>comb</th>\n    </tr>\n  </thead>\n  <tbody>\n    <tr>\n      <th>0</th>\n      <td>Adam Robitel</td>\n      <td>Lin Shaye</td>\n      <td>Angus Sampson</td>\n      <td>Leigh Whannell</td>\n      <td>Drama</td>\n      <td>insidious: the last key</td>\n      <td>Lin Shaye Angus Sampson Leigh Whannell Adam Ro...</td>\n    </tr>\n    <tr>\n      <th>1</th>\n      <td>Lauren Wolkstein</td>\n      <td>Alex Pettyfer</td>\n      <td>James Freedson-Jackson</td>\n      <td>Emily Althaus</td>\n      <td>Drama</td>\n      <td>the strange ones</td>\n      <td>Alex Pettyfer James Freedson-Jackson Emily Alt...</td>\n    </tr>\n    <tr>\n      <th>2</th>\n      <td>Simon West</td>\n      <td>Dominic Cooper</td>\n      <td>Austin Stowell</td>\n      <td>Gemma Chan</td>\n      <td>Drama</td>\n      <td>stratton</td>\n      <td>Dominic Cooper Austin Stowell Gemma Chan Simon...</td>\n    </tr>\n    <tr>\n      <th>3</th>\n      <td>Warwick Thornton</td>\n      <td>Bryan Brown</td>\n      <td>Sam Neill</td>\n      <td>unknown</td>\n      <td>Drama</td>\n      <td>sweet country</td>\n      <td>Bryan Brown Sam Neill unknown Warwick Thornton...</td>\n    </tr>\n    <tr>\n      <th>4</th>\n      <td>Jaume Collet-Serra</td>\n      <td>Liam Neeson</td>\n      <td>Vera Farmiga</td>\n      <td>Patrick Wilson</td>\n      <td>Drama</td>\n      <td>the commuter</td>\n      <td>Liam Neeson Vera Farmiga Patrick Wilson Jaume ...</td>\n    </tr>\n  </tbody>\n</table>\n</div>"
     },
     "metadata": {},
     "execution_count": 158
    }
   ],
   "source": [
    "new_df18.head()"
   ]
  },
  {
   "cell_type": "markdown",
   "metadata": {},
   "source": [
    "## Extracting features of 2019 movies from Wikipedia"
   ]
  },
  {
   "cell_type": "code",
   "execution_count": 87,
   "metadata": {},
   "outputs": [],
   "source": [
    "link = \"https://en.wikipedia.org/wiki/List_of_American_films_of_2019\"\n",
    "df1 = pd.read_html(link, header=0)[3]\n",
    "df2 = pd.read_html(link, header=0)[4]\n",
    "df3 = pd.read_html(link, header=0)[5]\n",
    "df4 = pd.read_html(link, header=0)[6]"
   ]
  },
  {
   "cell_type": "code",
   "execution_count": 88,
   "metadata": {},
   "outputs": [
    {
     "output_type": "stream",
     "name": "stderr",
     "text": [
      "C:\\Users\\Gaurishankar\\Anaconda3\\lib\\site-packages\\pandas\\core\\frame.py:6692: FutureWarning: Sorting because non-concatenation axis is not aligned. A future version\nof pandas will change to not sort by default.\n\nTo accept the future behavior, pass 'sort=False'.\n\nTo retain the current behavior and silence the warning, pass 'sort=True'.\n\n  sort=sort)\n"
     ]
    }
   ],
   "source": [
    "df = df1.append(df2.append(df3.append(df4,ignore_index=True),ignore_index=True),ignore_index=True)"
   ]
  },
  {
   "cell_type": "code",
   "execution_count": 89,
   "metadata": {},
   "outputs": [
    {
     "output_type": "execute_result",
     "data": {
      "text/plain": [
       "                                         Cast and crew   Opening  Opening.1  \\\n",
       "0    David F. Sandberg (director); Henry Gayden (sc...     APRIL        5.0   \n",
       "1    Kevin Kolsch, Dennis Widmyer (directors); Jeff...     APRIL        5.0   \n",
       "2    Robin Bissell (director/screenplay); Taraji P....     APRIL        5.0   \n",
       "3    Claire Denis (director/screenplay); Jean-Pol F...     APRIL        5.0   \n",
       "4    Brie Larson (director); Samantha McIntyre (scr...     APRIL        5.0   \n",
       "5    Daniel Farrands (director/screenplay); Hilary ...     APRIL        5.0   \n",
       "6    Emma Tammi (director); Teresa Sutherland (scre...     APRIL        5.0   \n",
       "7    John R. Leonetti (director); Carey Van Dyke, S...     APRIL       10.0   \n",
       "8    Neil Marshall (director); Andrew Cosby (screen...     APRIL       12.0   \n",
       "9    Tina Gordon (director); Camilla Blackett (scre...     APRIL       12.0   \n",
       "10   Chris Butler (director/screenplay); Hugh Jackm...     APRIL       12.0   \n",
       "11   Jenny Gage (director/screenplay); Susan McMart...     APRIL       12.0   \n",
       "12   Alex Ross Perry (director/screenplay); Elisabe...     APRIL       12.0   \n",
       "13   Roxann Dawson (director); Grant Nieporte (scre...     APRIL       17.0   \n",
       "14   Alastair Fothergill (director), Jeff Wilson (c...     APRIL       17.0   \n",
       "15   Michael Chaves (director); Mikki Daughtry, Tob...     APRIL       19.0   \n",
       "16   David Robert Mitchell (director/screenplay); A...     APRIL       19.0   \n",
       "17   Laura Steinel (director/screenplay); Taylor Sc...     APRIL       19.0   \n",
       "18   Julia Hart (director/screenplay); Jordan Horow...     APRIL       19.0   \n",
       "19   Jennifer Kaytin Robinson (director/screenplay)...     APRIL       19.0   \n",
       "20   Meir Zarchi (director/screenplay); Camille Kea...     APRIL       23.0   \n",
       "21   Anthony and Joe Russo (directors); Christopher...     APRIL       26.0   \n",
       "22   Josh Lobo (director/screenplay); A. J. Bowen, ...     APRIL       26.0   \n",
       "23   Roxanne Benjamin (director/screenplay); Karina...     APRIL       26.0   \n",
       "24   Tanya Wexler (director); Brian Sacca (screenpl...     APRIL       27.0   \n",
       "25   Jonathan Levine (director); Dan Sterling (scre...       MAY        3.0   \n",
       "26   Deon Taylor (director); David Loughery (screen...       MAY        3.0   \n",
       "27   Kelly Asbury (director); Alison Peck (screenpl...       MAY        3.0   \n",
       "28   Joe Berlinger (director); Michael Werwie (scre...       MAY        3.0   \n",
       "29   William Bindley (director); Scott Bindley; Wil...       MAY        3.0   \n",
       "..                                                 ...       ...        ...   \n",
       "163  Bill Condon (director); Jeffrey Hatcher (scree...  NOVEMBER       15.0   \n",
       "164  Scott Z. Burns (director/screenplay); Adam Dri...  NOVEMBER       15.0   \n",
       "165  Trey Edward Shults (director/screenplay); Kelv...  NOVEMBER       15.0   \n",
       "166  Chris Buck, Jennifer Lee (directors); Jennifer...  NOVEMBER       22.0   \n",
       "167  Marielle Heller (director); Micah Fitzerman-Bl...  NOVEMBER       22.0   \n",
       "168  Brian Kirk (director); Matthew Michael Carnaha...  NOVEMBER       22.0   \n",
       "169  Todd Haynes (director); Mario Correa, Matthew ...  NOVEMBER       22.0   \n",
       "170  Rian Johnson (director/screenplay); Daniel Cra...  NOVEMBER       27.0   \n",
       "171  Melina Matsoukas (director); Lena Waithe (scre...  NOVEMBER       27.0   \n",
       "172  Fernando Meirelles (director); Anthony McCarte...  NOVEMBER       27.0   \n",
       "173  Lino DiSalvo (director), Ramaa Mosley (co-dire...  DECEMBER        6.0   \n",
       "174  Tom Harper (director); Jack Thorne (screenplay...  DECEMBER        6.0   \n",
       "175  Sam Taylor-Johnson (director/screenplay); Aaro...  DECEMBER        6.0   \n",
       "176  Adam Egypt Mortimer (director/screenplay); Bri...  DECEMBER        6.0   \n",
       "177  Jake Kasdan (director/screenplay); Scott Rosen...  DECEMBER       13.0   \n",
       "178  Clint Eastwood (director); Billy Ray (screenpl...  DECEMBER       13.0   \n",
       "179  Sophia Takal (director/screenplay); April Wolf...  DECEMBER       13.0   \n",
       "180  Michael Bay (director); Rhett Reese, Paul Wern...  DECEMBER       13.0   \n",
       "181  Jay Roach (director); Charles Randolph (screen...  DECEMBER       13.0   \n",
       "182  Safdie brothers (directors/screenplay); Ronald...  DECEMBER       13.0   \n",
       "183  Benedict Andrews (director); Joe Shrapnel, Ann...  DECEMBER       13.0   \n",
       "184  Terrence Malick (director/screenplay); August ...  DECEMBER       13.0   \n",
       "185  J. J. Abrams (director/screenplay), Chris Terr...  DECEMBER       20.0   \n",
       "186  Tom Hooper (director/screenplay); Lee Hall (sc...  DECEMBER       20.0   \n",
       "187  Ericson Core (director); Tom Flynn (screenplay...  DECEMBER       20.0   \n",
       "188  Nick Bruno, Troy Quane (directors); Brad Copel...  DECEMBER       25.0   \n",
       "189  Greta Gerwig (director/screenplay); Saoirse Ro...  DECEMBER       25.0   \n",
       "190  Sam Mendes (director/screenplay); Krysty Wilso...  DECEMBER       25.0   \n",
       "191  Destin Daniel Cretton (director/screenplay), A...  DECEMBER       25.0   \n",
       "192  Chinonye Chukwu (director/screenplay); Alfre W...  DECEMBER       27.0   \n",
       "\n",
       "                                    Production company   Ref.  \\\n",
       "0    Warner Bros. Pictures / New Line Cinema / DC F...   [51]   \n",
       "1                                   Paramount Pictures   [52]   \n",
       "2                                    STX Entertainment   [53]   \n",
       "3                    A24 / Arte / ZDF / Canal+ / Ciné+   [54]   \n",
       "4                                              Netflix    NaN   \n",
       "5                       Saban Films / Voltage Pictures   [55]   \n",
       "6                                         IFC Midnight   [56]   \n",
       "7                                              Netflix   [57]   \n",
       "8              Summit Entertainment / Millennium Films   [58]   \n",
       "9    Universal Pictures / Legendary Pictures / Will...   [59]   \n",
       "10                          Annapurna Pictures / Laika   [60]   \n",
       "11                  Aviron Pictures / Voltage Pictures   [61]   \n",
       "12   Bow and Arrow Entertainment / Faliro House Pro...   [62]   \n",
       "13                                    20th Century Fox   [63]   \n",
       "14                                        Disneynature   [64]   \n",
       "15             Warner Bros. Pictures / New Line Cinema   [65]   \n",
       "16                                                 A24   [66]   \n",
       "17                          Stage 6 Films / Naegle Ink   [67]   \n",
       "18                                     Codeblack Films   [68]   \n",
       "19                                             Netflix   [69]   \n",
       "20                                         Deja Vu LLC   [70]   \n",
       "21                                      Marvel Studios   [71]   \n",
       "22                                        IFC Midnight   [72]   \n",
       "23                  SoapBox Films / ProtoStar Pictures   [73]   \n",
       "24                       Lost City / Blue Ice Pictures   [74]   \n",
       "25   Summit Entertainment / Good Universe / Point G...   [75]   \n",
       "26                                         Screen Gems   [76]   \n",
       "27       STX Entertainment / Reel FX Animation Studios   [77]   \n",
       "28                                Netflix / Sky Cinema   [78]   \n",
       "29                                             Netflix   [79]   \n",
       "..                                                 ...    ...   \n",
       "163  Warner Bros. Pictures / New Line Cinema / Bron...  [197]   \n",
       "164                                     Amazon Studios  [198]   \n",
       "165                                                A24  [199]   \n",
       "166  Walt Disney Pictures / Walt Disney Animation S...  [200]   \n",
       "167    TriStar Pictures / Tencent Pictures / Big Beach  [201]   \n",
       "168                                  STX Entertainment  [202]   \n",
       "169                       Focus Features / Participant  [203]   \n",
       "170                   Lionsgate / Media Rights Capital  [204]   \n",
       "171                 Universal Pictures / Bron Creative  [205]   \n",
       "172                                            Netflix  [165]   \n",
       "173                      Lionsgate / STX Entertainment  [206]   \n",
       "174                                     Amazon Studios  [207]   \n",
       "175            Momentum Pictures / The Picture Company  [208]   \n",
       "176                               Samuel Goldwyn Films  [209]   \n",
       "177                                  Columbia Pictures  [210]   \n",
       "178        Warner Bros. Pictures / Malpaso Productions  [211]   \n",
       "179         Universal Pictures / Blumhouse Productions  [212]   \n",
       "180                           Netflix / Skydance Media  [213]   \n",
       "181     Lionsgate / Bron Creative / Annapurna Pictures  [214]   \n",
       "182                                      A24 / Netflix  [215]   \n",
       "183                                     Amazon Studios  [216]   \n",
       "184                           Fox Searchlight Pictures  [217]   \n",
       "185                  Lucasfilm / Bad Robot Productions  [218]   \n",
       "186  Universal Pictures / Amblin Entertainment / Wo...  [219]   \n",
       "187                     Walt Disney Pictures / Disney+  [220]   \n",
       "188  20th Century Fox / Blue Sky Studios / Chernin ...  [132]   \n",
       "189            Columbia Pictures / Regency Enterprises  [221]   \n",
       "190  Universal Pictures / DreamWorks Pictures / Ent...  [222]   \n",
       "191          Warner Bros. Pictures / Participant Media  [223]   \n",
       "192                                               Neon  [224]   \n",
       "\n",
       "                                          Title Unnamed: 0  \\\n",
       "0                                       Shazam!        NaN   \n",
       "1                                  Pet Sematary        NaN   \n",
       "2                           The Best of Enemies        NaN   \n",
       "3                                     High Life        NaN   \n",
       "4                                 Unicorn Store        NaN   \n",
       "5                   The Haunting of Sharon Tate        NaN   \n",
       "6                                      The Wind        NaN   \n",
       "7                                   The Silence        NaN   \n",
       "8                                       Hellboy        NaN   \n",
       "9                                        Little        NaN   \n",
       "10                                 Missing Link        NaN   \n",
       "11                                        After        NaN   \n",
       "12                                    Her Smell        NaN   \n",
       "13                                 Breakthrough        NaN   \n",
       "14                                     Penguins        NaN   \n",
       "15                      The Curse of La Llorona        NaN   \n",
       "16                        Under the Silver Lake        NaN   \n",
       "17                                       Family        NaN   \n",
       "18                                   Fast Color        NaN   \n",
       "19                                Someone Great        NaN   \n",
       "20                I Spit on Your Grave: Deja Vu        NaN   \n",
       "21                            Avengers: Endgame        NaN   \n",
       "22                          I Trapped the Devil        NaN   \n",
       "23                        Body at Brighton Rock        NaN   \n",
       "24                                    Buffaloed        NaN   \n",
       "25                                    Long Shot        NaN   \n",
       "26                                 The Intruder        NaN   \n",
       "27                                    UglyDolls        NaN   \n",
       "28   Extremely Wicked, Shockingly Evil and Vile        NaN   \n",
       "29                              The Last Summer        NaN   \n",
       "..                                          ...        ...   \n",
       "163                               The Good Liar        NaN   \n",
       "164                                  The Report        NaN   \n",
       "165                                       Waves        NaN   \n",
       "166                                   Frozen II        NaN   \n",
       "167         A Beautiful Day in the Neighborhood        NaN   \n",
       "168                                  21 Bridges        NaN   \n",
       "169                                 Dark Waters        NaN   \n",
       "170                                  Knives Out        NaN   \n",
       "171                                Queen & Slim        NaN   \n",
       "172                               The Two Popes        NaN   \n",
       "173                        Playmobil: The Movie        NaN   \n",
       "174                               The Aeronauts        NaN   \n",
       "175                     A Million Little Pieces        NaN   \n",
       "176                           Daniel Isn't Real        NaN   \n",
       "177                     Jumanji: The Next Level        NaN   \n",
       "178                              Richard Jewell        NaN   \n",
       "179                             Black Christmas        NaN   \n",
       "180                               6 Underground        NaN   \n",
       "181                                   Bombshell        NaN   \n",
       "182                                  Uncut Gems        NaN   \n",
       "183                                      Seberg        NaN   \n",
       "184                               A Hidden Life        NaN   \n",
       "185            Star Wars: The Rise of Skywalker        NaN   \n",
       "186                                        Cats        NaN   \n",
       "187                                        Togo        NaN   \n",
       "188                           Spies in Disguise        NaN   \n",
       "189                                Little Women        NaN   \n",
       "190                                        1917        NaN   \n",
       "191                                  Just Mercy        NaN   \n",
       "192                                    Clemency        NaN   \n",
       "\n",
       "    Wikimedia Commons has media related to Films of the United States, 2019.  \n",
       "0                                                  NaN                        \n",
       "1                                                  NaN                        \n",
       "2                                                  NaN                        \n",
       "3                                                  NaN                        \n",
       "4                                                  NaN                        \n",
       "5                                                  NaN                        \n",
       "6                                                  NaN                        \n",
       "7                                                  NaN                        \n",
       "8                                                  NaN                        \n",
       "9                                                  NaN                        \n",
       "10                                                 NaN                        \n",
       "11                                                 NaN                        \n",
       "12                                                 NaN                        \n",
       "13                                                 NaN                        \n",
       "14                                                 NaN                        \n",
       "15                                                 NaN                        \n",
       "16                                                 NaN                        \n",
       "17                                                 NaN                        \n",
       "18                                                 NaN                        \n",
       "19                                                 NaN                        \n",
       "20                                                 NaN                        \n",
       "21                                                 NaN                        \n",
       "22                                                 NaN                        \n",
       "23                                                 NaN                        \n",
       "24                                                 NaN                        \n",
       "25                                                 NaN                        \n",
       "26                                                 NaN                        \n",
       "27                                                 NaN                        \n",
       "28                                                 NaN                        \n",
       "29                                                 NaN                        \n",
       "..                                                 ...                        \n",
       "163                                                NaN                        \n",
       "164                                                NaN                        \n",
       "165                                                NaN                        \n",
       "166                                                NaN                        \n",
       "167                                                NaN                        \n",
       "168                                                NaN                        \n",
       "169                                                NaN                        \n",
       "170                                                NaN                        \n",
       "171                                                NaN                        \n",
       "172                                                NaN                        \n",
       "173                                                NaN                        \n",
       "174                                                NaN                        \n",
       "175                                                NaN                        \n",
       "176                                                NaN                        \n",
       "177                                                NaN                        \n",
       "178                                                NaN                        \n",
       "179                                                NaN                        \n",
       "180                                                NaN                        \n",
       "181                                                NaN                        \n",
       "182                                                NaN                        \n",
       "183                                                NaN                        \n",
       "184                                                NaN                        \n",
       "185                                                NaN                        \n",
       "186                                                NaN                        \n",
       "187                                                NaN                        \n",
       "188                                                NaN                        \n",
       "189                                                NaN                        \n",
       "190                                                NaN                        \n",
       "191                                                NaN                        \n",
       "192                                                NaN                        \n",
       "\n",
       "[193 rows x 8 columns]"
      ],
      "text/html": "<div>\n<style scoped>\n    .dataframe tbody tr th:only-of-type {\n        vertical-align: middle;\n    }\n\n    .dataframe tbody tr th {\n        vertical-align: top;\n    }\n\n    .dataframe thead th {\n        text-align: right;\n    }\n</style>\n<table border=\"1\" class=\"dataframe\">\n  <thead>\n    <tr style=\"text-align: right;\">\n      <th></th>\n      <th>Cast and crew</th>\n      <th>Opening</th>\n      <th>Opening.1</th>\n      <th>Production company</th>\n      <th>Ref.</th>\n      <th>Title</th>\n      <th>Unnamed: 0</th>\n      <th>Wikimedia Commons has media related to Films of the United States, 2019.</th>\n    </tr>\n  </thead>\n  <tbody>\n    <tr>\n      <th>0</th>\n      <td>David F. Sandberg (director); Henry Gayden (sc...</td>\n      <td>APRIL</td>\n      <td>5.0</td>\n      <td>Warner Bros. Pictures / New Line Cinema / DC F...</td>\n      <td>[51]</td>\n      <td>Shazam!</td>\n      <td>NaN</td>\n      <td>NaN</td>\n    </tr>\n    <tr>\n      <th>1</th>\n      <td>Kevin Kolsch, Dennis Widmyer (directors); Jeff...</td>\n      <td>APRIL</td>\n      <td>5.0</td>\n      <td>Paramount Pictures</td>\n      <td>[52]</td>\n      <td>Pet Sematary</td>\n      <td>NaN</td>\n      <td>NaN</td>\n    </tr>\n    <tr>\n      <th>2</th>\n      <td>Robin Bissell (director/screenplay); Taraji P....</td>\n      <td>APRIL</td>\n      <td>5.0</td>\n      <td>STX Entertainment</td>\n      <td>[53]</td>\n      <td>The Best of Enemies</td>\n      <td>NaN</td>\n      <td>NaN</td>\n    </tr>\n    <tr>\n      <th>3</th>\n      <td>Claire Denis (director/screenplay); Jean-Pol F...</td>\n      <td>APRIL</td>\n      <td>5.0</td>\n      <td>A24 / Arte / ZDF / Canal+ / Ciné+</td>\n      <td>[54]</td>\n      <td>High Life</td>\n      <td>NaN</td>\n      <td>NaN</td>\n    </tr>\n    <tr>\n      <th>4</th>\n      <td>Brie Larson (director); Samantha McIntyre (scr...</td>\n      <td>APRIL</td>\n      <td>5.0</td>\n      <td>Netflix</td>\n      <td>NaN</td>\n      <td>Unicorn Store</td>\n      <td>NaN</td>\n      <td>NaN</td>\n    </tr>\n    <tr>\n      <th>5</th>\n      <td>Daniel Farrands (director/screenplay); Hilary ...</td>\n      <td>APRIL</td>\n      <td>5.0</td>\n      <td>Saban Films / Voltage Pictures</td>\n      <td>[55]</td>\n      <td>The Haunting of Sharon Tate</td>\n      <td>NaN</td>\n      <td>NaN</td>\n    </tr>\n    <tr>\n      <th>6</th>\n      <td>Emma Tammi (director); Teresa Sutherland (scre...</td>\n      <td>APRIL</td>\n      <td>5.0</td>\n      <td>IFC Midnight</td>\n      <td>[56]</td>\n      <td>The Wind</td>\n      <td>NaN</td>\n      <td>NaN</td>\n    </tr>\n    <tr>\n      <th>7</th>\n      <td>John R. Leonetti (director); Carey Van Dyke, S...</td>\n      <td>APRIL</td>\n      <td>10.0</td>\n      <td>Netflix</td>\n      <td>[57]</td>\n      <td>The Silence</td>\n      <td>NaN</td>\n      <td>NaN</td>\n    </tr>\n    <tr>\n      <th>8</th>\n      <td>Neil Marshall (director); Andrew Cosby (screen...</td>\n      <td>APRIL</td>\n      <td>12.0</td>\n      <td>Summit Entertainment / Millennium Films</td>\n      <td>[58]</td>\n      <td>Hellboy</td>\n      <td>NaN</td>\n      <td>NaN</td>\n    </tr>\n    <tr>\n      <th>9</th>\n      <td>Tina Gordon (director); Camilla Blackett (scre...</td>\n      <td>APRIL</td>\n      <td>12.0</td>\n      <td>Universal Pictures / Legendary Pictures / Will...</td>\n      <td>[59]</td>\n      <td>Little</td>\n      <td>NaN</td>\n      <td>NaN</td>\n    </tr>\n    <tr>\n      <th>10</th>\n      <td>Chris Butler (director/screenplay); Hugh Jackm...</td>\n      <td>APRIL</td>\n      <td>12.0</td>\n      <td>Annapurna Pictures / Laika</td>\n      <td>[60]</td>\n      <td>Missing Link</td>\n      <td>NaN</td>\n      <td>NaN</td>\n    </tr>\n    <tr>\n      <th>11</th>\n      <td>Jenny Gage (director/screenplay); Susan McMart...</td>\n      <td>APRIL</td>\n      <td>12.0</td>\n      <td>Aviron Pictures / Voltage Pictures</td>\n      <td>[61]</td>\n      <td>After</td>\n      <td>NaN</td>\n      <td>NaN</td>\n    </tr>\n    <tr>\n      <th>12</th>\n      <td>Alex Ross Perry (director/screenplay); Elisabe...</td>\n      <td>APRIL</td>\n      <td>12.0</td>\n      <td>Bow and Arrow Entertainment / Faliro House Pro...</td>\n      <td>[62]</td>\n      <td>Her Smell</td>\n      <td>NaN</td>\n      <td>NaN</td>\n    </tr>\n    <tr>\n      <th>13</th>\n      <td>Roxann Dawson (director); Grant Nieporte (scre...</td>\n      <td>APRIL</td>\n      <td>17.0</td>\n      <td>20th Century Fox</td>\n      <td>[63]</td>\n      <td>Breakthrough</td>\n      <td>NaN</td>\n      <td>NaN</td>\n    </tr>\n    <tr>\n      <th>14</th>\n      <td>Alastair Fothergill (director), Jeff Wilson (c...</td>\n      <td>APRIL</td>\n      <td>17.0</td>\n      <td>Disneynature</td>\n      <td>[64]</td>\n      <td>Penguins</td>\n      <td>NaN</td>\n      <td>NaN</td>\n    </tr>\n    <tr>\n      <th>15</th>\n      <td>Michael Chaves (director); Mikki Daughtry, Tob...</td>\n      <td>APRIL</td>\n      <td>19.0</td>\n      <td>Warner Bros. Pictures / New Line Cinema</td>\n      <td>[65]</td>\n      <td>The Curse of La Llorona</td>\n      <td>NaN</td>\n      <td>NaN</td>\n    </tr>\n    <tr>\n      <th>16</th>\n      <td>David Robert Mitchell (director/screenplay); A...</td>\n      <td>APRIL</td>\n      <td>19.0</td>\n      <td>A24</td>\n      <td>[66]</td>\n      <td>Under the Silver Lake</td>\n      <td>NaN</td>\n      <td>NaN</td>\n    </tr>\n    <tr>\n      <th>17</th>\n      <td>Laura Steinel (director/screenplay); Taylor Sc...</td>\n      <td>APRIL</td>\n      <td>19.0</td>\n      <td>Stage 6 Films / Naegle Ink</td>\n      <td>[67]</td>\n      <td>Family</td>\n      <td>NaN</td>\n      <td>NaN</td>\n    </tr>\n    <tr>\n      <th>18</th>\n      <td>Julia Hart (director/screenplay); Jordan Horow...</td>\n      <td>APRIL</td>\n      <td>19.0</td>\n      <td>Codeblack Films</td>\n      <td>[68]</td>\n      <td>Fast Color</td>\n      <td>NaN</td>\n      <td>NaN</td>\n    </tr>\n    <tr>\n      <th>19</th>\n      <td>Jennifer Kaytin Robinson (director/screenplay)...</td>\n      <td>APRIL</td>\n      <td>19.0</td>\n      <td>Netflix</td>\n      <td>[69]</td>\n      <td>Someone Great</td>\n      <td>NaN</td>\n      <td>NaN</td>\n    </tr>\n    <tr>\n      <th>20</th>\n      <td>Meir Zarchi (director/screenplay); Camille Kea...</td>\n      <td>APRIL</td>\n      <td>23.0</td>\n      <td>Deja Vu LLC</td>\n      <td>[70]</td>\n      <td>I Spit on Your Grave: Deja Vu</td>\n      <td>NaN</td>\n      <td>NaN</td>\n    </tr>\n    <tr>\n      <th>21</th>\n      <td>Anthony and Joe Russo (directors); Christopher...</td>\n      <td>APRIL</td>\n      <td>26.0</td>\n      <td>Marvel Studios</td>\n      <td>[71]</td>\n      <td>Avengers: Endgame</td>\n      <td>NaN</td>\n      <td>NaN</td>\n    </tr>\n    <tr>\n      <th>22</th>\n      <td>Josh Lobo (director/screenplay); A. J. Bowen, ...</td>\n      <td>APRIL</td>\n      <td>26.0</td>\n      <td>IFC Midnight</td>\n      <td>[72]</td>\n      <td>I Trapped the Devil</td>\n      <td>NaN</td>\n      <td>NaN</td>\n    </tr>\n    <tr>\n      <th>23</th>\n      <td>Roxanne Benjamin (director/screenplay); Karina...</td>\n      <td>APRIL</td>\n      <td>26.0</td>\n      <td>SoapBox Films / ProtoStar Pictures</td>\n      <td>[73]</td>\n      <td>Body at Brighton Rock</td>\n      <td>NaN</td>\n      <td>NaN</td>\n    </tr>\n    <tr>\n      <th>24</th>\n      <td>Tanya Wexler (director); Brian Sacca (screenpl...</td>\n      <td>APRIL</td>\n      <td>27.0</td>\n      <td>Lost City / Blue Ice Pictures</td>\n      <td>[74]</td>\n      <td>Buffaloed</td>\n      <td>NaN</td>\n      <td>NaN</td>\n    </tr>\n    <tr>\n      <th>25</th>\n      <td>Jonathan Levine (director); Dan Sterling (scre...</td>\n      <td>MAY</td>\n      <td>3.0</td>\n      <td>Summit Entertainment / Good Universe / Point G...</td>\n      <td>[75]</td>\n      <td>Long Shot</td>\n      <td>NaN</td>\n      <td>NaN</td>\n    </tr>\n    <tr>\n      <th>26</th>\n      <td>Deon Taylor (director); David Loughery (screen...</td>\n      <td>MAY</td>\n      <td>3.0</td>\n      <td>Screen Gems</td>\n      <td>[76]</td>\n      <td>The Intruder</td>\n      <td>NaN</td>\n      <td>NaN</td>\n    </tr>\n    <tr>\n      <th>27</th>\n      <td>Kelly Asbury (director); Alison Peck (screenpl...</td>\n      <td>MAY</td>\n      <td>3.0</td>\n      <td>STX Entertainment / Reel FX Animation Studios</td>\n      <td>[77]</td>\n      <td>UglyDolls</td>\n      <td>NaN</td>\n      <td>NaN</td>\n    </tr>\n    <tr>\n      <th>28</th>\n      <td>Joe Berlinger (director); Michael Werwie (scre...</td>\n      <td>MAY</td>\n      <td>3.0</td>\n      <td>Netflix / Sky Cinema</td>\n      <td>[78]</td>\n      <td>Extremely Wicked, Shockingly Evil and Vile</td>\n      <td>NaN</td>\n      <td>NaN</td>\n    </tr>\n    <tr>\n      <th>29</th>\n      <td>William Bindley (director); Scott Bindley; Wil...</td>\n      <td>MAY</td>\n      <td>3.0</td>\n      <td>Netflix</td>\n      <td>[79]</td>\n      <td>The Last Summer</td>\n      <td>NaN</td>\n      <td>NaN</td>\n    </tr>\n    <tr>\n      <th>...</th>\n      <td>...</td>\n      <td>...</td>\n      <td>...</td>\n      <td>...</td>\n      <td>...</td>\n      <td>...</td>\n      <td>...</td>\n      <td>...</td>\n    </tr>\n    <tr>\n      <th>163</th>\n      <td>Bill Condon (director); Jeffrey Hatcher (scree...</td>\n      <td>NOVEMBER</td>\n      <td>15.0</td>\n      <td>Warner Bros. Pictures / New Line Cinema / Bron...</td>\n      <td>[197]</td>\n      <td>The Good Liar</td>\n      <td>NaN</td>\n      <td>NaN</td>\n    </tr>\n    <tr>\n      <th>164</th>\n      <td>Scott Z. Burns (director/screenplay); Adam Dri...</td>\n      <td>NOVEMBER</td>\n      <td>15.0</td>\n      <td>Amazon Studios</td>\n      <td>[198]</td>\n      <td>The Report</td>\n      <td>NaN</td>\n      <td>NaN</td>\n    </tr>\n    <tr>\n      <th>165</th>\n      <td>Trey Edward Shults (director/screenplay); Kelv...</td>\n      <td>NOVEMBER</td>\n      <td>15.0</td>\n      <td>A24</td>\n      <td>[199]</td>\n      <td>Waves</td>\n      <td>NaN</td>\n      <td>NaN</td>\n    </tr>\n    <tr>\n      <th>166</th>\n      <td>Chris Buck, Jennifer Lee (directors); Jennifer...</td>\n      <td>NOVEMBER</td>\n      <td>22.0</td>\n      <td>Walt Disney Pictures / Walt Disney Animation S...</td>\n      <td>[200]</td>\n      <td>Frozen II</td>\n      <td>NaN</td>\n      <td>NaN</td>\n    </tr>\n    <tr>\n      <th>167</th>\n      <td>Marielle Heller (director); Micah Fitzerman-Bl...</td>\n      <td>NOVEMBER</td>\n      <td>22.0</td>\n      <td>TriStar Pictures / Tencent Pictures / Big Beach</td>\n      <td>[201]</td>\n      <td>A Beautiful Day in the Neighborhood</td>\n      <td>NaN</td>\n      <td>NaN</td>\n    </tr>\n    <tr>\n      <th>168</th>\n      <td>Brian Kirk (director); Matthew Michael Carnaha...</td>\n      <td>NOVEMBER</td>\n      <td>22.0</td>\n      <td>STX Entertainment</td>\n      <td>[202]</td>\n      <td>21 Bridges</td>\n      <td>NaN</td>\n      <td>NaN</td>\n    </tr>\n    <tr>\n      <th>169</th>\n      <td>Todd Haynes (director); Mario Correa, Matthew ...</td>\n      <td>NOVEMBER</td>\n      <td>22.0</td>\n      <td>Focus Features / Participant</td>\n      <td>[203]</td>\n      <td>Dark Waters</td>\n      <td>NaN</td>\n      <td>NaN</td>\n    </tr>\n    <tr>\n      <th>170</th>\n      <td>Rian Johnson (director/screenplay); Daniel Cra...</td>\n      <td>NOVEMBER</td>\n      <td>27.0</td>\n      <td>Lionsgate / Media Rights Capital</td>\n      <td>[204]</td>\n      <td>Knives Out</td>\n      <td>NaN</td>\n      <td>NaN</td>\n    </tr>\n    <tr>\n      <th>171</th>\n      <td>Melina Matsoukas (director); Lena Waithe (scre...</td>\n      <td>NOVEMBER</td>\n      <td>27.0</td>\n      <td>Universal Pictures / Bron Creative</td>\n      <td>[205]</td>\n      <td>Queen &amp; Slim</td>\n      <td>NaN</td>\n      <td>NaN</td>\n    </tr>\n    <tr>\n      <th>172</th>\n      <td>Fernando Meirelles (director); Anthony McCarte...</td>\n      <td>NOVEMBER</td>\n      <td>27.0</td>\n      <td>Netflix</td>\n      <td>[165]</td>\n      <td>The Two Popes</td>\n      <td>NaN</td>\n      <td>NaN</td>\n    </tr>\n    <tr>\n      <th>173</th>\n      <td>Lino DiSalvo (director), Ramaa Mosley (co-dire...</td>\n      <td>DECEMBER</td>\n      <td>6.0</td>\n      <td>Lionsgate / STX Entertainment</td>\n      <td>[206]</td>\n      <td>Playmobil: The Movie</td>\n      <td>NaN</td>\n      <td>NaN</td>\n    </tr>\n    <tr>\n      <th>174</th>\n      <td>Tom Harper (director); Jack Thorne (screenplay...</td>\n      <td>DECEMBER</td>\n      <td>6.0</td>\n      <td>Amazon Studios</td>\n      <td>[207]</td>\n      <td>The Aeronauts</td>\n      <td>NaN</td>\n      <td>NaN</td>\n    </tr>\n    <tr>\n      <th>175</th>\n      <td>Sam Taylor-Johnson (director/screenplay); Aaro...</td>\n      <td>DECEMBER</td>\n      <td>6.0</td>\n      <td>Momentum Pictures / The Picture Company</td>\n      <td>[208]</td>\n      <td>A Million Little Pieces</td>\n      <td>NaN</td>\n      <td>NaN</td>\n    </tr>\n    <tr>\n      <th>176</th>\n      <td>Adam Egypt Mortimer (director/screenplay); Bri...</td>\n      <td>DECEMBER</td>\n      <td>6.0</td>\n      <td>Samuel Goldwyn Films</td>\n      <td>[209]</td>\n      <td>Daniel Isn't Real</td>\n      <td>NaN</td>\n      <td>NaN</td>\n    </tr>\n    <tr>\n      <th>177</th>\n      <td>Jake Kasdan (director/screenplay); Scott Rosen...</td>\n      <td>DECEMBER</td>\n      <td>13.0</td>\n      <td>Columbia Pictures</td>\n      <td>[210]</td>\n      <td>Jumanji: The Next Level</td>\n      <td>NaN</td>\n      <td>NaN</td>\n    </tr>\n    <tr>\n      <th>178</th>\n      <td>Clint Eastwood (director); Billy Ray (screenpl...</td>\n      <td>DECEMBER</td>\n      <td>13.0</td>\n      <td>Warner Bros. Pictures / Malpaso Productions</td>\n      <td>[211]</td>\n      <td>Richard Jewell</td>\n      <td>NaN</td>\n      <td>NaN</td>\n    </tr>\n    <tr>\n      <th>179</th>\n      <td>Sophia Takal (director/screenplay); April Wolf...</td>\n      <td>DECEMBER</td>\n      <td>13.0</td>\n      <td>Universal Pictures / Blumhouse Productions</td>\n      <td>[212]</td>\n      <td>Black Christmas</td>\n      <td>NaN</td>\n      <td>NaN</td>\n    </tr>\n    <tr>\n      <th>180</th>\n      <td>Michael Bay (director); Rhett Reese, Paul Wern...</td>\n      <td>DECEMBER</td>\n      <td>13.0</td>\n      <td>Netflix / Skydance Media</td>\n      <td>[213]</td>\n      <td>6 Underground</td>\n      <td>NaN</td>\n      <td>NaN</td>\n    </tr>\n    <tr>\n      <th>181</th>\n      <td>Jay Roach (director); Charles Randolph (screen...</td>\n      <td>DECEMBER</td>\n      <td>13.0</td>\n      <td>Lionsgate / Bron Creative / Annapurna Pictures</td>\n      <td>[214]</td>\n      <td>Bombshell</td>\n      <td>NaN</td>\n      <td>NaN</td>\n    </tr>\n    <tr>\n      <th>182</th>\n      <td>Safdie brothers (directors/screenplay); Ronald...</td>\n      <td>DECEMBER</td>\n      <td>13.0</td>\n      <td>A24 / Netflix</td>\n      <td>[215]</td>\n      <td>Uncut Gems</td>\n      <td>NaN</td>\n      <td>NaN</td>\n    </tr>\n    <tr>\n      <th>183</th>\n      <td>Benedict Andrews (director); Joe Shrapnel, Ann...</td>\n      <td>DECEMBER</td>\n      <td>13.0</td>\n      <td>Amazon Studios</td>\n      <td>[216]</td>\n      <td>Seberg</td>\n      <td>NaN</td>\n      <td>NaN</td>\n    </tr>\n    <tr>\n      <th>184</th>\n      <td>Terrence Malick (director/screenplay); August ...</td>\n      <td>DECEMBER</td>\n      <td>13.0</td>\n      <td>Fox Searchlight Pictures</td>\n      <td>[217]</td>\n      <td>A Hidden Life</td>\n      <td>NaN</td>\n      <td>NaN</td>\n    </tr>\n    <tr>\n      <th>185</th>\n      <td>J. J. Abrams (director/screenplay), Chris Terr...</td>\n      <td>DECEMBER</td>\n      <td>20.0</td>\n      <td>Lucasfilm / Bad Robot Productions</td>\n      <td>[218]</td>\n      <td>Star Wars: The Rise of Skywalker</td>\n      <td>NaN</td>\n      <td>NaN</td>\n    </tr>\n    <tr>\n      <th>186</th>\n      <td>Tom Hooper (director/screenplay); Lee Hall (sc...</td>\n      <td>DECEMBER</td>\n      <td>20.0</td>\n      <td>Universal Pictures / Amblin Entertainment / Wo...</td>\n      <td>[219]</td>\n      <td>Cats</td>\n      <td>NaN</td>\n      <td>NaN</td>\n    </tr>\n    <tr>\n      <th>187</th>\n      <td>Ericson Core (director); Tom Flynn (screenplay...</td>\n      <td>DECEMBER</td>\n      <td>20.0</td>\n      <td>Walt Disney Pictures / Disney+</td>\n      <td>[220]</td>\n      <td>Togo</td>\n      <td>NaN</td>\n      <td>NaN</td>\n    </tr>\n    <tr>\n      <th>188</th>\n      <td>Nick Bruno, Troy Quane (directors); Brad Copel...</td>\n      <td>DECEMBER</td>\n      <td>25.0</td>\n      <td>20th Century Fox / Blue Sky Studios / Chernin ...</td>\n      <td>[132]</td>\n      <td>Spies in Disguise</td>\n      <td>NaN</td>\n      <td>NaN</td>\n    </tr>\n    <tr>\n      <th>189</th>\n      <td>Greta Gerwig (director/screenplay); Saoirse Ro...</td>\n      <td>DECEMBER</td>\n      <td>25.0</td>\n      <td>Columbia Pictures / Regency Enterprises</td>\n      <td>[221]</td>\n      <td>Little Women</td>\n      <td>NaN</td>\n      <td>NaN</td>\n    </tr>\n    <tr>\n      <th>190</th>\n      <td>Sam Mendes (director/screenplay); Krysty Wilso...</td>\n      <td>DECEMBER</td>\n      <td>25.0</td>\n      <td>Universal Pictures / DreamWorks Pictures / Ent...</td>\n      <td>[222]</td>\n      <td>1917</td>\n      <td>NaN</td>\n      <td>NaN</td>\n    </tr>\n    <tr>\n      <th>191</th>\n      <td>Destin Daniel Cretton (director/screenplay), A...</td>\n      <td>DECEMBER</td>\n      <td>25.0</td>\n      <td>Warner Bros. Pictures / Participant Media</td>\n      <td>[223]</td>\n      <td>Just Mercy</td>\n      <td>NaN</td>\n      <td>NaN</td>\n    </tr>\n    <tr>\n      <th>192</th>\n      <td>Chinonye Chukwu (director/screenplay); Alfre W...</td>\n      <td>DECEMBER</td>\n      <td>27.0</td>\n      <td>Neon</td>\n      <td>[224]</td>\n      <td>Clemency</td>\n      <td>NaN</td>\n      <td>NaN</td>\n    </tr>\n  </tbody>\n</table>\n<p>193 rows × 8 columns</p>\n</div>"
     },
     "metadata": {},
     "execution_count": 89
    }
   ],
   "source": [
    "df"
   ]
  },
  {
   "cell_type": "code",
   "execution_count": 90,
   "metadata": {},
   "outputs": [],
   "source": [
    "df['genres'] = df['Title'].map(lambda x: get_genre(str(x)))"
   ]
  },
  {
   "cell_type": "code",
   "execution_count": 91,
   "metadata": {},
   "outputs": [],
   "source": [
    "df_2019 = df[['Title','Cast and crew','genres']]"
   ]
  },
  {
   "cell_type": "code",
   "execution_count": 92,
   "metadata": {},
   "outputs": [
    {
     "output_type": "execute_result",
     "data": {
      "text/plain": [
       "                                          Title  \\\n",
       "0                                       Shazam!   \n",
       "1                                  Pet Sematary   \n",
       "2                           The Best of Enemies   \n",
       "3                                     High Life   \n",
       "4                                 Unicorn Store   \n",
       "5                   The Haunting of Sharon Tate   \n",
       "6                                      The Wind   \n",
       "7                                   The Silence   \n",
       "8                                       Hellboy   \n",
       "9                                        Little   \n",
       "10                                 Missing Link   \n",
       "11                                        After   \n",
       "12                                    Her Smell   \n",
       "13                                 Breakthrough   \n",
       "14                                     Penguins   \n",
       "15                      The Curse of La Llorona   \n",
       "16                        Under the Silver Lake   \n",
       "17                                       Family   \n",
       "18                                   Fast Color   \n",
       "19                                Someone Great   \n",
       "20                I Spit on Your Grave: Deja Vu   \n",
       "21                            Avengers: Endgame   \n",
       "22                          I Trapped the Devil   \n",
       "23                        Body at Brighton Rock   \n",
       "24                                    Buffaloed   \n",
       "25                                    Long Shot   \n",
       "26                                 The Intruder   \n",
       "27                                    UglyDolls   \n",
       "28   Extremely Wicked, Shockingly Evil and Vile   \n",
       "29                              The Last Summer   \n",
       "..                                          ...   \n",
       "163                               The Good Liar   \n",
       "164                                  The Report   \n",
       "165                                       Waves   \n",
       "166                                   Frozen II   \n",
       "167         A Beautiful Day in the Neighborhood   \n",
       "168                                  21 Bridges   \n",
       "169                                 Dark Waters   \n",
       "170                                  Knives Out   \n",
       "171                                Queen & Slim   \n",
       "172                               The Two Popes   \n",
       "173                        Playmobil: The Movie   \n",
       "174                               The Aeronauts   \n",
       "175                     A Million Little Pieces   \n",
       "176                           Daniel Isn't Real   \n",
       "177                     Jumanji: The Next Level   \n",
       "178                              Richard Jewell   \n",
       "179                             Black Christmas   \n",
       "180                               6 Underground   \n",
       "181                                   Bombshell   \n",
       "182                                  Uncut Gems   \n",
       "183                                      Seberg   \n",
       "184                               A Hidden Life   \n",
       "185            Star Wars: The Rise of Skywalker   \n",
       "186                                        Cats   \n",
       "187                                        Togo   \n",
       "188                           Spies in Disguise   \n",
       "189                                Little Women   \n",
       "190                                        1917   \n",
       "191                                  Just Mercy   \n",
       "192                                    Clemency   \n",
       "\n",
       "                                         Cast and crew genres  \n",
       "0    David F. Sandberg (director); Henry Gayden (sc...  Drama  \n",
       "1    Kevin Kolsch, Dennis Widmyer (directors); Jeff...  Drama  \n",
       "2    Robin Bissell (director/screenplay); Taraji P....  Drama  \n",
       "3    Claire Denis (director/screenplay); Jean-Pol F...  Drama  \n",
       "4    Brie Larson (director); Samantha McIntyre (scr...  Drama  \n",
       "5    Daniel Farrands (director/screenplay); Hilary ...  Drama  \n",
       "6    Emma Tammi (director); Teresa Sutherland (scre...  Drama  \n",
       "7    John R. Leonetti (director); Carey Van Dyke, S...  Drama  \n",
       "8    Neil Marshall (director); Andrew Cosby (screen...  Drama  \n",
       "9    Tina Gordon (director); Camilla Blackett (scre...  Drama  \n",
       "10   Chris Butler (director/screenplay); Hugh Jackm...  Drama  \n",
       "11   Jenny Gage (director/screenplay); Susan McMart...  Drama  \n",
       "12   Alex Ross Perry (director/screenplay); Elisabe...  Drama  \n",
       "13   Roxann Dawson (director); Grant Nieporte (scre...  Drama  \n",
       "14   Alastair Fothergill (director), Jeff Wilson (c...  Drama  \n",
       "15   Michael Chaves (director); Mikki Daughtry, Tob...  Drama  \n",
       "16   David Robert Mitchell (director/screenplay); A...  Drama  \n",
       "17   Laura Steinel (director/screenplay); Taylor Sc...  Drama  \n",
       "18   Julia Hart (director/screenplay); Jordan Horow...  Drama  \n",
       "19   Jennifer Kaytin Robinson (director/screenplay)...  Drama  \n",
       "20   Meir Zarchi (director/screenplay); Camille Kea...  Drama  \n",
       "21   Anthony and Joe Russo (directors); Christopher...  Drama  \n",
       "22   Josh Lobo (director/screenplay); A. J. Bowen, ...  Drama  \n",
       "23   Roxanne Benjamin (director/screenplay); Karina...  Drama  \n",
       "24   Tanya Wexler (director); Brian Sacca (screenpl...  Drama  \n",
       "25   Jonathan Levine (director); Dan Sterling (scre...  Drama  \n",
       "26   Deon Taylor (director); David Loughery (screen...  Drama  \n",
       "27   Kelly Asbury (director); Alison Peck (screenpl...  Drama  \n",
       "28   Joe Berlinger (director); Michael Werwie (scre...  Drama  \n",
       "29   William Bindley (director); Scott Bindley; Wil...  Drama  \n",
       "..                                                 ...    ...  \n",
       "163  Bill Condon (director); Jeffrey Hatcher (scree...  Drama  \n",
       "164  Scott Z. Burns (director/screenplay); Adam Dri...  Drama  \n",
       "165  Trey Edward Shults (director/screenplay); Kelv...  Drama  \n",
       "166  Chris Buck, Jennifer Lee (directors); Jennifer...  Drama  \n",
       "167  Marielle Heller (director); Micah Fitzerman-Bl...  Drama  \n",
       "168  Brian Kirk (director); Matthew Michael Carnaha...  Drama  \n",
       "169  Todd Haynes (director); Mario Correa, Matthew ...  Drama  \n",
       "170  Rian Johnson (director/screenplay); Daniel Cra...  Drama  \n",
       "171  Melina Matsoukas (director); Lena Waithe (scre...  Drama  \n",
       "172  Fernando Meirelles (director); Anthony McCarte...  Drama  \n",
       "173  Lino DiSalvo (director), Ramaa Mosley (co-dire...  Drama  \n",
       "174  Tom Harper (director); Jack Thorne (screenplay...  Drama  \n",
       "175  Sam Taylor-Johnson (director/screenplay); Aaro...  Drama  \n",
       "176  Adam Egypt Mortimer (director/screenplay); Bri...  Drama  \n",
       "177  Jake Kasdan (director/screenplay); Scott Rosen...  Drama  \n",
       "178  Clint Eastwood (director); Billy Ray (screenpl...  Drama  \n",
       "179  Sophia Takal (director/screenplay); April Wolf...  Drama  \n",
       "180  Michael Bay (director); Rhett Reese, Paul Wern...  Drama  \n",
       "181  Jay Roach (director); Charles Randolph (screen...  Drama  \n",
       "182  Safdie brothers (directors/screenplay); Ronald...  Drama  \n",
       "183  Benedict Andrews (director); Joe Shrapnel, Ann...  Drama  \n",
       "184  Terrence Malick (director/screenplay); August ...  Drama  \n",
       "185  J. J. Abrams (director/screenplay), Chris Terr...  Drama  \n",
       "186  Tom Hooper (director/screenplay); Lee Hall (sc...  Drama  \n",
       "187  Ericson Core (director); Tom Flynn (screenplay...  Drama  \n",
       "188  Nick Bruno, Troy Quane (directors); Brad Copel...  Drama  \n",
       "189  Greta Gerwig (director/screenplay); Saoirse Ro...  Drama  \n",
       "190  Sam Mendes (director/screenplay); Krysty Wilso...  Drama  \n",
       "191  Destin Daniel Cretton (director/screenplay), A...  Drama  \n",
       "192  Chinonye Chukwu (director/screenplay); Alfre W...  Drama  \n",
       "\n",
       "[193 rows x 3 columns]"
      ],
      "text/html": "<div>\n<style scoped>\n    .dataframe tbody tr th:only-of-type {\n        vertical-align: middle;\n    }\n\n    .dataframe tbody tr th {\n        vertical-align: top;\n    }\n\n    .dataframe thead th {\n        text-align: right;\n    }\n</style>\n<table border=\"1\" class=\"dataframe\">\n  <thead>\n    <tr style=\"text-align: right;\">\n      <th></th>\n      <th>Title</th>\n      <th>Cast and crew</th>\n      <th>genres</th>\n    </tr>\n  </thead>\n  <tbody>\n    <tr>\n      <th>0</th>\n      <td>Shazam!</td>\n      <td>David F. Sandberg (director); Henry Gayden (sc...</td>\n      <td>Drama</td>\n    </tr>\n    <tr>\n      <th>1</th>\n      <td>Pet Sematary</td>\n      <td>Kevin Kolsch, Dennis Widmyer (directors); Jeff...</td>\n      <td>Drama</td>\n    </tr>\n    <tr>\n      <th>2</th>\n      <td>The Best of Enemies</td>\n      <td>Robin Bissell (director/screenplay); Taraji P....</td>\n      <td>Drama</td>\n    </tr>\n    <tr>\n      <th>3</th>\n      <td>High Life</td>\n      <td>Claire Denis (director/screenplay); Jean-Pol F...</td>\n      <td>Drama</td>\n    </tr>\n    <tr>\n      <th>4</th>\n      <td>Unicorn Store</td>\n      <td>Brie Larson (director); Samantha McIntyre (scr...</td>\n      <td>Drama</td>\n    </tr>\n    <tr>\n      <th>5</th>\n      <td>The Haunting of Sharon Tate</td>\n      <td>Daniel Farrands (director/screenplay); Hilary ...</td>\n      <td>Drama</td>\n    </tr>\n    <tr>\n      <th>6</th>\n      <td>The Wind</td>\n      <td>Emma Tammi (director); Teresa Sutherland (scre...</td>\n      <td>Drama</td>\n    </tr>\n    <tr>\n      <th>7</th>\n      <td>The Silence</td>\n      <td>John R. Leonetti (director); Carey Van Dyke, S...</td>\n      <td>Drama</td>\n    </tr>\n    <tr>\n      <th>8</th>\n      <td>Hellboy</td>\n      <td>Neil Marshall (director); Andrew Cosby (screen...</td>\n      <td>Drama</td>\n    </tr>\n    <tr>\n      <th>9</th>\n      <td>Little</td>\n      <td>Tina Gordon (director); Camilla Blackett (scre...</td>\n      <td>Drama</td>\n    </tr>\n    <tr>\n      <th>10</th>\n      <td>Missing Link</td>\n      <td>Chris Butler (director/screenplay); Hugh Jackm...</td>\n      <td>Drama</td>\n    </tr>\n    <tr>\n      <th>11</th>\n      <td>After</td>\n      <td>Jenny Gage (director/screenplay); Susan McMart...</td>\n      <td>Drama</td>\n    </tr>\n    <tr>\n      <th>12</th>\n      <td>Her Smell</td>\n      <td>Alex Ross Perry (director/screenplay); Elisabe...</td>\n      <td>Drama</td>\n    </tr>\n    <tr>\n      <th>13</th>\n      <td>Breakthrough</td>\n      <td>Roxann Dawson (director); Grant Nieporte (scre...</td>\n      <td>Drama</td>\n    </tr>\n    <tr>\n      <th>14</th>\n      <td>Penguins</td>\n      <td>Alastair Fothergill (director), Jeff Wilson (c...</td>\n      <td>Drama</td>\n    </tr>\n    <tr>\n      <th>15</th>\n      <td>The Curse of La Llorona</td>\n      <td>Michael Chaves (director); Mikki Daughtry, Tob...</td>\n      <td>Drama</td>\n    </tr>\n    <tr>\n      <th>16</th>\n      <td>Under the Silver Lake</td>\n      <td>David Robert Mitchell (director/screenplay); A...</td>\n      <td>Drama</td>\n    </tr>\n    <tr>\n      <th>17</th>\n      <td>Family</td>\n      <td>Laura Steinel (director/screenplay); Taylor Sc...</td>\n      <td>Drama</td>\n    </tr>\n    <tr>\n      <th>18</th>\n      <td>Fast Color</td>\n      <td>Julia Hart (director/screenplay); Jordan Horow...</td>\n      <td>Drama</td>\n    </tr>\n    <tr>\n      <th>19</th>\n      <td>Someone Great</td>\n      <td>Jennifer Kaytin Robinson (director/screenplay)...</td>\n      <td>Drama</td>\n    </tr>\n    <tr>\n      <th>20</th>\n      <td>I Spit on Your Grave: Deja Vu</td>\n      <td>Meir Zarchi (director/screenplay); Camille Kea...</td>\n      <td>Drama</td>\n    </tr>\n    <tr>\n      <th>21</th>\n      <td>Avengers: Endgame</td>\n      <td>Anthony and Joe Russo (directors); Christopher...</td>\n      <td>Drama</td>\n    </tr>\n    <tr>\n      <th>22</th>\n      <td>I Trapped the Devil</td>\n      <td>Josh Lobo (director/screenplay); A. J. Bowen, ...</td>\n      <td>Drama</td>\n    </tr>\n    <tr>\n      <th>23</th>\n      <td>Body at Brighton Rock</td>\n      <td>Roxanne Benjamin (director/screenplay); Karina...</td>\n      <td>Drama</td>\n    </tr>\n    <tr>\n      <th>24</th>\n      <td>Buffaloed</td>\n      <td>Tanya Wexler (director); Brian Sacca (screenpl...</td>\n      <td>Drama</td>\n    </tr>\n    <tr>\n      <th>25</th>\n      <td>Long Shot</td>\n      <td>Jonathan Levine (director); Dan Sterling (scre...</td>\n      <td>Drama</td>\n    </tr>\n    <tr>\n      <th>26</th>\n      <td>The Intruder</td>\n      <td>Deon Taylor (director); David Loughery (screen...</td>\n      <td>Drama</td>\n    </tr>\n    <tr>\n      <th>27</th>\n      <td>UglyDolls</td>\n      <td>Kelly Asbury (director); Alison Peck (screenpl...</td>\n      <td>Drama</td>\n    </tr>\n    <tr>\n      <th>28</th>\n      <td>Extremely Wicked, Shockingly Evil and Vile</td>\n      <td>Joe Berlinger (director); Michael Werwie (scre...</td>\n      <td>Drama</td>\n    </tr>\n    <tr>\n      <th>29</th>\n      <td>The Last Summer</td>\n      <td>William Bindley (director); Scott Bindley; Wil...</td>\n      <td>Drama</td>\n    </tr>\n    <tr>\n      <th>...</th>\n      <td>...</td>\n      <td>...</td>\n      <td>...</td>\n    </tr>\n    <tr>\n      <th>163</th>\n      <td>The Good Liar</td>\n      <td>Bill Condon (director); Jeffrey Hatcher (scree...</td>\n      <td>Drama</td>\n    </tr>\n    <tr>\n      <th>164</th>\n      <td>The Report</td>\n      <td>Scott Z. Burns (director/screenplay); Adam Dri...</td>\n      <td>Drama</td>\n    </tr>\n    <tr>\n      <th>165</th>\n      <td>Waves</td>\n      <td>Trey Edward Shults (director/screenplay); Kelv...</td>\n      <td>Drama</td>\n    </tr>\n    <tr>\n      <th>166</th>\n      <td>Frozen II</td>\n      <td>Chris Buck, Jennifer Lee (directors); Jennifer...</td>\n      <td>Drama</td>\n    </tr>\n    <tr>\n      <th>167</th>\n      <td>A Beautiful Day in the Neighborhood</td>\n      <td>Marielle Heller (director); Micah Fitzerman-Bl...</td>\n      <td>Drama</td>\n    </tr>\n    <tr>\n      <th>168</th>\n      <td>21 Bridges</td>\n      <td>Brian Kirk (director); Matthew Michael Carnaha...</td>\n      <td>Drama</td>\n    </tr>\n    <tr>\n      <th>169</th>\n      <td>Dark Waters</td>\n      <td>Todd Haynes (director); Mario Correa, Matthew ...</td>\n      <td>Drama</td>\n    </tr>\n    <tr>\n      <th>170</th>\n      <td>Knives Out</td>\n      <td>Rian Johnson (director/screenplay); Daniel Cra...</td>\n      <td>Drama</td>\n    </tr>\n    <tr>\n      <th>171</th>\n      <td>Queen &amp; Slim</td>\n      <td>Melina Matsoukas (director); Lena Waithe (scre...</td>\n      <td>Drama</td>\n    </tr>\n    <tr>\n      <th>172</th>\n      <td>The Two Popes</td>\n      <td>Fernando Meirelles (director); Anthony McCarte...</td>\n      <td>Drama</td>\n    </tr>\n    <tr>\n      <th>173</th>\n      <td>Playmobil: The Movie</td>\n      <td>Lino DiSalvo (director), Ramaa Mosley (co-dire...</td>\n      <td>Drama</td>\n    </tr>\n    <tr>\n      <th>174</th>\n      <td>The Aeronauts</td>\n      <td>Tom Harper (director); Jack Thorne (screenplay...</td>\n      <td>Drama</td>\n    </tr>\n    <tr>\n      <th>175</th>\n      <td>A Million Little Pieces</td>\n      <td>Sam Taylor-Johnson (director/screenplay); Aaro...</td>\n      <td>Drama</td>\n    </tr>\n    <tr>\n      <th>176</th>\n      <td>Daniel Isn't Real</td>\n      <td>Adam Egypt Mortimer (director/screenplay); Bri...</td>\n      <td>Drama</td>\n    </tr>\n    <tr>\n      <th>177</th>\n      <td>Jumanji: The Next Level</td>\n      <td>Jake Kasdan (director/screenplay); Scott Rosen...</td>\n      <td>Drama</td>\n    </tr>\n    <tr>\n      <th>178</th>\n      <td>Richard Jewell</td>\n      <td>Clint Eastwood (director); Billy Ray (screenpl...</td>\n      <td>Drama</td>\n    </tr>\n    <tr>\n      <th>179</th>\n      <td>Black Christmas</td>\n      <td>Sophia Takal (director/screenplay); April Wolf...</td>\n      <td>Drama</td>\n    </tr>\n    <tr>\n      <th>180</th>\n      <td>6 Underground</td>\n      <td>Michael Bay (director); Rhett Reese, Paul Wern...</td>\n      <td>Drama</td>\n    </tr>\n    <tr>\n      <th>181</th>\n      <td>Bombshell</td>\n      <td>Jay Roach (director); Charles Randolph (screen...</td>\n      <td>Drama</td>\n    </tr>\n    <tr>\n      <th>182</th>\n      <td>Uncut Gems</td>\n      <td>Safdie brothers (directors/screenplay); Ronald...</td>\n      <td>Drama</td>\n    </tr>\n    <tr>\n      <th>183</th>\n      <td>Seberg</td>\n      <td>Benedict Andrews (director); Joe Shrapnel, Ann...</td>\n      <td>Drama</td>\n    </tr>\n    <tr>\n      <th>184</th>\n      <td>A Hidden Life</td>\n      <td>Terrence Malick (director/screenplay); August ...</td>\n      <td>Drama</td>\n    </tr>\n    <tr>\n      <th>185</th>\n      <td>Star Wars: The Rise of Skywalker</td>\n      <td>J. J. Abrams (director/screenplay), Chris Terr...</td>\n      <td>Drama</td>\n    </tr>\n    <tr>\n      <th>186</th>\n      <td>Cats</td>\n      <td>Tom Hooper (director/screenplay); Lee Hall (sc...</td>\n      <td>Drama</td>\n    </tr>\n    <tr>\n      <th>187</th>\n      <td>Togo</td>\n      <td>Ericson Core (director); Tom Flynn (screenplay...</td>\n      <td>Drama</td>\n    </tr>\n    <tr>\n      <th>188</th>\n      <td>Spies in Disguise</td>\n      <td>Nick Bruno, Troy Quane (directors); Brad Copel...</td>\n      <td>Drama</td>\n    </tr>\n    <tr>\n      <th>189</th>\n      <td>Little Women</td>\n      <td>Greta Gerwig (director/screenplay); Saoirse Ro...</td>\n      <td>Drama</td>\n    </tr>\n    <tr>\n      <th>190</th>\n      <td>1917</td>\n      <td>Sam Mendes (director/screenplay); Krysty Wilso...</td>\n      <td>Drama</td>\n    </tr>\n    <tr>\n      <th>191</th>\n      <td>Just Mercy</td>\n      <td>Destin Daniel Cretton (director/screenplay), A...</td>\n      <td>Drama</td>\n    </tr>\n    <tr>\n      <th>192</th>\n      <td>Clemency</td>\n      <td>Chinonye Chukwu (director/screenplay); Alfre W...</td>\n      <td>Drama</td>\n    </tr>\n  </tbody>\n</table>\n<p>193 rows × 3 columns</p>\n</div>"
     },
     "metadata": {},
     "execution_count": 92
    }
   ],
   "source": [
    "df_2019"
   ]
  },
  {
   "cell_type": "code",
   "execution_count": 93,
   "metadata": {},
   "outputs": [],
   "source": [
    "def get_director(x):\n",
    "    if \" (director)\" in x:\n",
    "        return x.split(\" (director)\")[0]\n",
    "    elif \" (directors)\" in x:\n",
    "        return x.split(\" (directors)\")[0]\n",
    "    else:\n",
    "        return x.split(\" (director/screenplay)\")[0]"
   ]
  },
  {
   "cell_type": "code",
   "execution_count": 94,
   "metadata": {},
   "outputs": [
    {
     "output_type": "stream",
     "name": "stderr",
     "text": [
      "C:\\Users\\Gaurishankar\\Anaconda3\\lib\\site-packages\\ipykernel_launcher.py:1: SettingWithCopyWarning: \nA value is trying to be set on a copy of a slice from a DataFrame.\nTry using .loc[row_indexer,col_indexer] = value instead\n\nSee the caveats in the documentation: http://pandas.pydata.org/pandas-docs/stable/indexing.html#indexing-view-versus-copy\n  \"\"\"Entry point for launching an IPython kernel.\n"
     ]
    }
   ],
   "source": [
    "df_2019['director_name'] = df_2019['Cast and crew'].map(lambda x: get_director(str(x)))"
   ]
  },
  {
   "cell_type": "code",
   "execution_count": 95,
   "metadata": {},
   "outputs": [],
   "source": [
    "def get_actor1(x):\n",
    "    return ((x.split(\"screenplay); \")[-1]).split(\", \")[0])"
   ]
  },
  {
   "cell_type": "code",
   "execution_count": 96,
   "metadata": {},
   "outputs": [
    {
     "output_type": "stream",
     "name": "stderr",
     "text": [
      "C:\\Users\\Gaurishankar\\Anaconda3\\lib\\site-packages\\ipykernel_launcher.py:1: SettingWithCopyWarning: \nA value is trying to be set on a copy of a slice from a DataFrame.\nTry using .loc[row_indexer,col_indexer] = value instead\n\nSee the caveats in the documentation: http://pandas.pydata.org/pandas-docs/stable/indexing.html#indexing-view-versus-copy\n  \"\"\"Entry point for launching an IPython kernel.\n"
     ]
    }
   ],
   "source": [
    "df_2019['actor_1_name'] = df_2019['Cast and crew'].map(lambda x: get_actor1(x))"
   ]
  },
  {
   "cell_type": "code",
   "execution_count": 97,
   "metadata": {},
   "outputs": [],
   "source": [
    "def get_actor2(x):\n",
    "    if len((x.split(\"screenplay); \")[-1]).split(\", \")) < 2:\n",
    "        return np.NaN\n",
    "    else:\n",
    "        return ((x.split(\"screenplay); \")[-1]).split(\", \")[1])"
   ]
  },
  {
   "cell_type": "code",
   "execution_count": 98,
   "metadata": {},
   "outputs": [
    {
     "output_type": "stream",
     "name": "stderr",
     "text": [
      "C:\\Users\\Gaurishankar\\Anaconda3\\lib\\site-packages\\ipykernel_launcher.py:1: SettingWithCopyWarning: \nA value is trying to be set on a copy of a slice from a DataFrame.\nTry using .loc[row_indexer,col_indexer] = value instead\n\nSee the caveats in the documentation: http://pandas.pydata.org/pandas-docs/stable/indexing.html#indexing-view-versus-copy\n  \"\"\"Entry point for launching an IPython kernel.\n"
     ]
    }
   ],
   "source": [
    "df_2019['actor_2_name'] = df_2019['Cast and crew'].map(lambda x: get_actor2(x))"
   ]
  },
  {
   "cell_type": "code",
   "execution_count": 99,
   "metadata": {},
   "outputs": [],
   "source": [
    "def get_actor3(x):\n",
    "    if len((x.split(\"screenplay); \")[-1]).split(\", \")) < 3:\n",
    "        return np.NaN\n",
    "    else:\n",
    "        return ((x.split(\"screenplay); \")[-1]).split(\", \")[2])"
   ]
  },
  {
   "cell_type": "code",
   "execution_count": 100,
   "metadata": {},
   "outputs": [
    {
     "output_type": "stream",
     "name": "stderr",
     "text": [
      "C:\\Users\\Gaurishankar\\Anaconda3\\lib\\site-packages\\ipykernel_launcher.py:1: SettingWithCopyWarning: \nA value is trying to be set on a copy of a slice from a DataFrame.\nTry using .loc[row_indexer,col_indexer] = value instead\n\nSee the caveats in the documentation: http://pandas.pydata.org/pandas-docs/stable/indexing.html#indexing-view-versus-copy\n  \"\"\"Entry point for launching an IPython kernel.\n"
     ]
    }
   ],
   "source": [
    "df_2019['actor_3_name'] = df_2019['Cast and crew'].map(lambda x: get_actor3(x))"
   ]
  },
  {
   "cell_type": "code",
   "execution_count": 101,
   "metadata": {},
   "outputs": [],
   "source": [
    "df_2019 = df_2019.rename(columns={'Title':'movie_title'})"
   ]
  },
  {
   "cell_type": "code",
   "execution_count": 102,
   "metadata": {},
   "outputs": [],
   "source": [
    "new_df19 = df_2019.loc[:,['director_name','actor_1_name','actor_2_name','actor_3_name','genres','movie_title']]"
   ]
  },
  {
   "cell_type": "code",
   "execution_count": 103,
   "metadata": {},
   "outputs": [],
   "source": [
    "new_df19['actor_2_name'] = new_df19['actor_2_name'].replace(np.nan, 'unknown')\n",
    "new_df19['actor_3_name'] = new_df19['actor_3_name'].replace(np.nan, 'unknown')"
   ]
  },
  {
   "cell_type": "code",
   "execution_count": 104,
   "metadata": {},
   "outputs": [],
   "source": [
    "new_df19['movie_title'] = new_df19['movie_title'].str.lower()"
   ]
  },
  {
   "cell_type": "code",
   "execution_count": 105,
   "metadata": {},
   "outputs": [],
   "source": [
    "new_df19['comb'] = new_df19['actor_1_name'] + ' ' + new_df19['actor_2_name'] + ' '+ new_df19['actor_3_name'] + ' '+ new_df19['director_name'] +' ' + new_df19['genres']"
   ]
  },
  {
   "cell_type": "code",
   "execution_count": 106,
   "metadata": {},
   "outputs": [
    {
     "output_type": "execute_result",
     "data": {
      "text/plain": [
       "                                         director_name  \\\n",
       "0                                    David F. Sandberg   \n",
       "1                         Kevin Kolsch, Dennis Widmyer   \n",
       "2                                        Robin Bissell   \n",
       "3                                         Claire Denis   \n",
       "4                                          Brie Larson   \n",
       "5                                      Daniel Farrands   \n",
       "6                                           Emma Tammi   \n",
       "7                                     John R. Leonetti   \n",
       "8                                        Neil Marshall   \n",
       "9                                          Tina Gordon   \n",
       "10                                        Chris Butler   \n",
       "11                                          Jenny Gage   \n",
       "12                                     Alex Ross Perry   \n",
       "13                                       Roxann Dawson   \n",
       "14                                 Alastair Fothergill   \n",
       "15                                      Michael Chaves   \n",
       "16                               David Robert Mitchell   \n",
       "17                                       Laura Steinel   \n",
       "18                                          Julia Hart   \n",
       "19                            Jennifer Kaytin Robinson   \n",
       "20                                         Meir Zarchi   \n",
       "21                               Anthony and Joe Russo   \n",
       "22                                           Josh Lobo   \n",
       "23                                    Roxanne Benjamin   \n",
       "24                                        Tanya Wexler   \n",
       "25                                     Jonathan Levine   \n",
       "26                                         Deon Taylor   \n",
       "27                                        Kelly Asbury   \n",
       "28                                       Joe Berlinger   \n",
       "29                                     William Bindley   \n",
       "..                                                 ...   \n",
       "163                                        Bill Condon   \n",
       "164                                     Scott Z. Burns   \n",
       "165                                 Trey Edward Shults   \n",
       "166                           Chris Buck, Jennifer Lee   \n",
       "167                                    Marielle Heller   \n",
       "168                                         Brian Kirk   \n",
       "169                                        Todd Haynes   \n",
       "170                                       Rian Johnson   \n",
       "171                                   Melina Matsoukas   \n",
       "172                                 Fernando Meirelles   \n",
       "173                                       Lino DiSalvo   \n",
       "174                                         Tom Harper   \n",
       "175                                 Sam Taylor-Johnson   \n",
       "176                                Adam Egypt Mortimer   \n",
       "177                                        Jake Kasdan   \n",
       "178                                     Clint Eastwood   \n",
       "179                                       Sophia Takal   \n",
       "180                                        Michael Bay   \n",
       "181                                          Jay Roach   \n",
       "182  Safdie brothers (directors/screenplay); Ronald...   \n",
       "183                                   Benedict Andrews   \n",
       "184                                    Terrence Malick   \n",
       "185                                       J. J. Abrams   \n",
       "186                                         Tom Hooper   \n",
       "187                                       Ericson Core   \n",
       "188                             Nick Bruno, Troy Quane   \n",
       "189                                       Greta Gerwig   \n",
       "190                                         Sam Mendes   \n",
       "191                              Destin Daniel Cretton   \n",
       "192                                    Chinonye Chukwu   \n",
       "\n",
       "                       actor_1_name                         actor_2_name  \\\n",
       "0                      Zachary Levi                          Asher Angel   \n",
       "1                      Jason Clarke                          Amy Seimetz   \n",
       "2                  Taraji P. Henson                         Sam Rockwell   \n",
       "3                  Robert Pattinson                     Juliette Binoche   \n",
       "4                       Brie Larson                    Samuel L. Jackson   \n",
       "5                       Hilary Duff                     Jonathan Bennett   \n",
       "6                    Caitlin Gerard                      Ashley Zukerman   \n",
       "7                    Kiernan Shipka                        Stanley Tucci   \n",
       "8                     David Harbour                       Milla Jovovich   \n",
       "9                          Issa Rae                          Regina Hall   \n",
       "10                     Hugh Jackman                    Zach Galifianakis   \n",
       "11               Josephine Langford                  Hero Fiennes Tiffin   \n",
       "12                   Elisabeth Moss                      Cara Delevingne   \n",
       "13                     Chrissy Metz                           Josh Lucas   \n",
       "14   Alastair Fothergill (director)  Jeff Wilson (co-director); Ed Helms   \n",
       "15                 Linda Cardellini                         Raymond Cruz   \n",
       "16                  Andrew Garfield                         Riley Keough   \n",
       "17                 Taylor Schilling                    Brian Tyree Henry   \n",
       "18                  Gugu Mbatha-Raw                   Lorraine Toussaint   \n",
       "19                   Gina Rodriguez                        Brittany Snow   \n",
       "20                   Camille Keaton                          Maria Olsen   \n",
       "21                Robert Downey Jr.                          Chris Evans   \n",
       "22                      A. J. Bowen                      Scott Poythress   \n",
       "23                    Karina Fontes                          Casey Adams   \n",
       "24                      Zoey Deutch                      Jermaine Fowler   \n",
       "25                       Seth Rogen                      Charlize Theron   \n",
       "26                     Dennis Quaid                         Michael Ealy   \n",
       "27                   Kelly Clarkson                              Pitbull   \n",
       "28                        Zac Efron                         Lily Collins   \n",
       "29                           KJ Apa                        Maia Mitchell   \n",
       "..                              ...                                  ...   \n",
       "163                    Ian McKellen                         Helen Mirren   \n",
       "164                     Adam Driver                       Annette Bening   \n",
       "165             Kelvin Harrison Jr.                         Lucas Hedges   \n",
       "166                    Idina Menzel                         Kristen Bell   \n",
       "167                       Tom Hanks                         Matthew Rhys   \n",
       "168                Chadwick Boseman                        Sienna Miller   \n",
       "169                    Mark Ruffalo                        Anne Hathaway   \n",
       "170                    Daniel Craig                          Chris Evans   \n",
       "171                  Daniel Kaluuya                   Jodie Turner-Smith   \n",
       "172                 Anthony Hopkins                       Jonathan Pryce   \n",
       "173                 Anya Taylor-Joy                     Daniel Radcliffe   \n",
       "174                  Felicity Jones                       Eddie Redmayne   \n",
       "175            Aaron Taylor-Johnson                   Billy Bob Thornton   \n",
       "176                   Miles Robbins               Patrick Schwarzenegger   \n",
       "177                  Dwayne Johnson                           Jack Black   \n",
       "178              Paul Walter Hauser                         Sam Rockwell   \n",
       "179                    Imogen Poots                        Lily Donoghue   \n",
       "180                   Ryan Reynolds                      Mélanie Laurent   \n",
       "181                 Charlize Theron                        Nicole Kidman   \n",
       "182                    Adam Sandler                    Lakeith Stanfield   \n",
       "183                 Kristen Stewart                       Jack O'Connell   \n",
       "184                    August Diehl                      Valerie Pachner   \n",
       "185                   Carrie Fisher                          Mark Hamill   \n",
       "186                    James Corden                           Judi Dench   \n",
       "187                    Willem Dafoe                   Julianne Nicholson   \n",
       "188                      Will Smith                          Tom Holland   \n",
       "189                   Saoirse Ronan                          Emma Watson   \n",
       "190                   George MacKay                 Dean-Charles Chapman   \n",
       "191               Michael B. Jordan                           Jamie Foxx   \n",
       "192                   Alfre Woodard                       Wendell Pierce   \n",
       "\n",
       "              actor_3_name genres                                 movie_title  \\\n",
       "0              Mark Strong  Drama                                     shazam!   \n",
       "1             John Lithgow  Drama                                pet sematary   \n",
       "2                  unknown  Drama                         the best of enemies   \n",
       "3           André Benjamin  Drama                                   high life   \n",
       "4              Joan Cusack  Drama                               unicorn store   \n",
       "5             Lydia Hearst  Drama                 the haunting of sharon tate   \n",
       "6     Julia Goldani Telles  Drama                                    the wind   \n",
       "7             Miranda Otto  Drama                                 the silence   \n",
       "8              Ian McShane  Drama                                     hellboy   \n",
       "9            Marsai Martin  Drama                                      little   \n",
       "10             Zoe Saldana  Drama                                missing link   \n",
       "11             Selma Blair  Drama                                       after   \n",
       "12             Dan Stevens  Drama                                   her smell   \n",
       "13            Topher Grace  Drama                                breakthrough   \n",
       "14                 unknown  Drama                                    penguins   \n",
       "15      Patricia Velasquez  Drama                     the curse of la llorona   \n",
       "16            Topher Grace  Drama                       under the silver lake   \n",
       "17               Bryn Vale  Drama                                      family   \n",
       "18          Saniyya Sidney  Drama                                  fast color   \n",
       "19            DeWanda Wise  Drama                               someone great   \n",
       "20             Meir Zarchi  Drama               i spit on your grave: deja vu   \n",
       "21            Mark Ruffalo  Drama                           avengers: endgame   \n",
       "22             Susan Burke  Drama                         i trapped the devil   \n",
       "23           Emily Althaus  Drama                       body at brighton rock   \n",
       "24              Judy Greer  Drama                                   buffaloed   \n",
       "25      O'Shea Jackson Jr.  Drama                                   long shot   \n",
       "26             Meagan Good  Drama                                the intruder   \n",
       "27              Nick Jonas  Drama                                   uglydolls   \n",
       "28         Kaya Scodelario  Drama  extremely wicked, shockingly evil and vile   \n",
       "29          Jacob Latimore  Drama                             the last summer   \n",
       "..                     ...    ...                                         ...   \n",
       "163          Russell Tovey  Drama                               the good liar   \n",
       "164             Ted Levine  Drama                                  the report   \n",
       "165         Taylor Russell  Drama                                       waves   \n",
       "166         Jonathan Groff  Drama                                   frozen ii   \n",
       "167   Susan Kelechi Watson  Drama         a beautiful day in the neighborhood   \n",
       "168          Stephan James  Drama                                  21 bridges   \n",
       "169            Tim Robbins  Drama                                 dark waters   \n",
       "170           Ana de Armas  Drama                                  knives out   \n",
       "171        Bokeem Woodbine  Drama                                queen & slim   \n",
       "172                unknown  Drama                               the two popes   \n",
       "173        Gabriel Bateman  Drama                        playmobil: the movie   \n",
       "174           Himesh Patel  Drama                               the aeronauts   \n",
       "175           Odessa Young  Drama                     a million little pieces   \n",
       "176             Sasha Lane  Drama                           daniel isn't real   \n",
       "177             Kevin Hart  Drama                     jumanji: the next level   \n",
       "178            Kathy Bates  Drama                              richard jewell   \n",
       "179         Aleyse Shannon  Drama                             black christmas   \n",
       "180    Manuel Garcia-Rulfo  Drama                               6 underground   \n",
       "181          Margot Robbie  Drama                                   bombshell   \n",
       "182              Julia Fox  Drama                                  uncut gems   \n",
       "183       Margaret Qualley  Drama                                      seberg   \n",
       "184   Matthias Schoenaerts  Drama                               a hidden life   \n",
       "185            Adam Driver  Drama            star wars: the rise of skywalker   \n",
       "186           Jason Derulo  Drama                                        cats   \n",
       "187  Christopher Heyerdahl  Drama                                        togo   \n",
       "188          Rashida Jones  Drama                           spies in disguise   \n",
       "189          Florence Pugh  Drama                                little women   \n",
       "190            Mark Strong  Drama                                        1917   \n",
       "191            Brie Larson  Drama                                  just mercy   \n",
       "192            Aldis Hodge  Drama                                    clemency   \n",
       "\n",
       "                                                  comb  \n",
       "0    Zachary Levi Asher Angel Mark Strong David F. ...  \n",
       "1    Jason Clarke Amy Seimetz John Lithgow Kevin Ko...  \n",
       "2    Taraji P. Henson Sam Rockwell unknown Robin Bi...  \n",
       "3    Robert Pattinson Juliette Binoche André Benjam...  \n",
       "4    Brie Larson Samuel L. Jackson Joan Cusack Brie...  \n",
       "5    Hilary Duff Jonathan Bennett Lydia Hearst Dani...  \n",
       "6    Caitlin Gerard Ashley Zukerman Julia Goldani T...  \n",
       "7    Kiernan Shipka Stanley Tucci Miranda Otto John...  \n",
       "8    David Harbour Milla Jovovich Ian McShane Neil ...  \n",
       "9    Issa Rae Regina Hall Marsai Martin Tina Gordon...  \n",
       "10   Hugh Jackman Zach Galifianakis Zoe Saldana Chr...  \n",
       "11   Josephine Langford Hero Fiennes Tiffin Selma B...  \n",
       "12   Elisabeth Moss Cara Delevingne Dan Stevens Ale...  \n",
       "13   Chrissy Metz Josh Lucas Topher Grace Roxann Da...  \n",
       "14   Alastair Fothergill (director) Jeff Wilson (co...  \n",
       "15   Linda Cardellini Raymond Cruz Patricia Velasqu...  \n",
       "16   Andrew Garfield Riley Keough Topher Grace Davi...  \n",
       "17   Taylor Schilling Brian Tyree Henry Bryn Vale L...  \n",
       "18   Gugu Mbatha-Raw Lorraine Toussaint Saniyya Sid...  \n",
       "19   Gina Rodriguez Brittany Snow DeWanda Wise Jenn...  \n",
       "20   Camille Keaton Maria Olsen Meir Zarchi Meir Za...  \n",
       "21   Robert Downey Jr. Chris Evans Mark Ruffalo Ant...  \n",
       "22   A. J. Bowen Scott Poythress Susan Burke Josh L...  \n",
       "23   Karina Fontes Casey Adams Emily Althaus Roxann...  \n",
       "24   Zoey Deutch Jermaine Fowler Judy Greer Tanya W...  \n",
       "25   Seth Rogen Charlize Theron O'Shea Jackson Jr. ...  \n",
       "26   Dennis Quaid Michael Ealy Meagan Good Deon Tay...  \n",
       "27   Kelly Clarkson Pitbull Nick Jonas Kelly Asbury...  \n",
       "28   Zac Efron Lily Collins Kaya Scodelario Joe Ber...  \n",
       "29   KJ Apa Maia Mitchell Jacob Latimore William Bi...  \n",
       "..                                                 ...  \n",
       "163  Ian McKellen Helen Mirren Russell Tovey Bill C...  \n",
       "164  Adam Driver Annette Bening Ted Levine Scott Z....  \n",
       "165  Kelvin Harrison Jr. Lucas Hedges Taylor Russel...  \n",
       "166  Idina Menzel Kristen Bell Jonathan Groff Chris...  \n",
       "167  Tom Hanks Matthew Rhys Susan Kelechi Watson Ma...  \n",
       "168  Chadwick Boseman Sienna Miller Stephan James B...  \n",
       "169  Mark Ruffalo Anne Hathaway Tim Robbins Todd Ha...  \n",
       "170  Daniel Craig Chris Evans Ana de Armas Rian Joh...  \n",
       "171  Daniel Kaluuya Jodie Turner-Smith Bokeem Woodb...  \n",
       "172  Anthony Hopkins Jonathan Pryce unknown Fernand...  \n",
       "173  Anya Taylor-Joy Daniel Radcliffe Gabriel Batem...  \n",
       "174  Felicity Jones Eddie Redmayne Himesh Patel Tom...  \n",
       "175  Aaron Taylor-Johnson Billy Bob Thornton Odessa...  \n",
       "176  Miles Robbins Patrick Schwarzenegger Sasha Lan...  \n",
       "177  Dwayne Johnson Jack Black Kevin Hart Jake Kasd...  \n",
       "178  Paul Walter Hauser Sam Rockwell Kathy Bates Cl...  \n",
       "179  Imogen Poots Lily Donoghue Aleyse Shannon Soph...  \n",
       "180  Ryan Reynolds Mélanie Laurent Manuel Garcia-Ru...  \n",
       "181  Charlize Theron Nicole Kidman Margot Robbie Ja...  \n",
       "182  Adam Sandler Lakeith Stanfield Julia Fox Safdi...  \n",
       "183  Kristen Stewart Jack O'Connell Margaret Qualle...  \n",
       "184  August Diehl Valerie Pachner Matthias Schoenae...  \n",
       "185  Carrie Fisher Mark Hamill Adam Driver J. J. Ab...  \n",
       "186  James Corden Judi Dench Jason Derulo Tom Hoope...  \n",
       "187  Willem Dafoe Julianne Nicholson Christopher He...  \n",
       "188  Will Smith Tom Holland Rashida Jones Nick Brun...  \n",
       "189  Saoirse Ronan Emma Watson Florence Pugh Greta ...  \n",
       "190  George MacKay Dean-Charles Chapman Mark Strong...  \n",
       "191  Michael B. Jordan Jamie Foxx Brie Larson Desti...  \n",
       "192  Alfre Woodard Wendell Pierce Aldis Hodge Chino...  \n",
       "\n",
       "[193 rows x 7 columns]"
      ],
      "text/html": "<div>\n<style scoped>\n    .dataframe tbody tr th:only-of-type {\n        vertical-align: middle;\n    }\n\n    .dataframe tbody tr th {\n        vertical-align: top;\n    }\n\n    .dataframe thead th {\n        text-align: right;\n    }\n</style>\n<table border=\"1\" class=\"dataframe\">\n  <thead>\n    <tr style=\"text-align: right;\">\n      <th></th>\n      <th>director_name</th>\n      <th>actor_1_name</th>\n      <th>actor_2_name</th>\n      <th>actor_3_name</th>\n      <th>genres</th>\n      <th>movie_title</th>\n      <th>comb</th>\n    </tr>\n  </thead>\n  <tbody>\n    <tr>\n      <th>0</th>\n      <td>David F. Sandberg</td>\n      <td>Zachary Levi</td>\n      <td>Asher Angel</td>\n      <td>Mark Strong</td>\n      <td>Drama</td>\n      <td>shazam!</td>\n      <td>Zachary Levi Asher Angel Mark Strong David F. ...</td>\n    </tr>\n    <tr>\n      <th>1</th>\n      <td>Kevin Kolsch, Dennis Widmyer</td>\n      <td>Jason Clarke</td>\n      <td>Amy Seimetz</td>\n      <td>John Lithgow</td>\n      <td>Drama</td>\n      <td>pet sematary</td>\n      <td>Jason Clarke Amy Seimetz John Lithgow Kevin Ko...</td>\n    </tr>\n    <tr>\n      <th>2</th>\n      <td>Robin Bissell</td>\n      <td>Taraji P. Henson</td>\n      <td>Sam Rockwell</td>\n      <td>unknown</td>\n      <td>Drama</td>\n      <td>the best of enemies</td>\n      <td>Taraji P. Henson Sam Rockwell unknown Robin Bi...</td>\n    </tr>\n    <tr>\n      <th>3</th>\n      <td>Claire Denis</td>\n      <td>Robert Pattinson</td>\n      <td>Juliette Binoche</td>\n      <td>André Benjamin</td>\n      <td>Drama</td>\n      <td>high life</td>\n      <td>Robert Pattinson Juliette Binoche André Benjam...</td>\n    </tr>\n    <tr>\n      <th>4</th>\n      <td>Brie Larson</td>\n      <td>Brie Larson</td>\n      <td>Samuel L. Jackson</td>\n      <td>Joan Cusack</td>\n      <td>Drama</td>\n      <td>unicorn store</td>\n      <td>Brie Larson Samuel L. Jackson Joan Cusack Brie...</td>\n    </tr>\n    <tr>\n      <th>5</th>\n      <td>Daniel Farrands</td>\n      <td>Hilary Duff</td>\n      <td>Jonathan Bennett</td>\n      <td>Lydia Hearst</td>\n      <td>Drama</td>\n      <td>the haunting of sharon tate</td>\n      <td>Hilary Duff Jonathan Bennett Lydia Hearst Dani...</td>\n    </tr>\n    <tr>\n      <th>6</th>\n      <td>Emma Tammi</td>\n      <td>Caitlin Gerard</td>\n      <td>Ashley Zukerman</td>\n      <td>Julia Goldani Telles</td>\n      <td>Drama</td>\n      <td>the wind</td>\n      <td>Caitlin Gerard Ashley Zukerman Julia Goldani T...</td>\n    </tr>\n    <tr>\n      <th>7</th>\n      <td>John R. Leonetti</td>\n      <td>Kiernan Shipka</td>\n      <td>Stanley Tucci</td>\n      <td>Miranda Otto</td>\n      <td>Drama</td>\n      <td>the silence</td>\n      <td>Kiernan Shipka Stanley Tucci Miranda Otto John...</td>\n    </tr>\n    <tr>\n      <th>8</th>\n      <td>Neil Marshall</td>\n      <td>David Harbour</td>\n      <td>Milla Jovovich</td>\n      <td>Ian McShane</td>\n      <td>Drama</td>\n      <td>hellboy</td>\n      <td>David Harbour Milla Jovovich Ian McShane Neil ...</td>\n    </tr>\n    <tr>\n      <th>9</th>\n      <td>Tina Gordon</td>\n      <td>Issa Rae</td>\n      <td>Regina Hall</td>\n      <td>Marsai Martin</td>\n      <td>Drama</td>\n      <td>little</td>\n      <td>Issa Rae Regina Hall Marsai Martin Tina Gordon...</td>\n    </tr>\n    <tr>\n      <th>10</th>\n      <td>Chris Butler</td>\n      <td>Hugh Jackman</td>\n      <td>Zach Galifianakis</td>\n      <td>Zoe Saldana</td>\n      <td>Drama</td>\n      <td>missing link</td>\n      <td>Hugh Jackman Zach Galifianakis Zoe Saldana Chr...</td>\n    </tr>\n    <tr>\n      <th>11</th>\n      <td>Jenny Gage</td>\n      <td>Josephine Langford</td>\n      <td>Hero Fiennes Tiffin</td>\n      <td>Selma Blair</td>\n      <td>Drama</td>\n      <td>after</td>\n      <td>Josephine Langford Hero Fiennes Tiffin Selma B...</td>\n    </tr>\n    <tr>\n      <th>12</th>\n      <td>Alex Ross Perry</td>\n      <td>Elisabeth Moss</td>\n      <td>Cara Delevingne</td>\n      <td>Dan Stevens</td>\n      <td>Drama</td>\n      <td>her smell</td>\n      <td>Elisabeth Moss Cara Delevingne Dan Stevens Ale...</td>\n    </tr>\n    <tr>\n      <th>13</th>\n      <td>Roxann Dawson</td>\n      <td>Chrissy Metz</td>\n      <td>Josh Lucas</td>\n      <td>Topher Grace</td>\n      <td>Drama</td>\n      <td>breakthrough</td>\n      <td>Chrissy Metz Josh Lucas Topher Grace Roxann Da...</td>\n    </tr>\n    <tr>\n      <th>14</th>\n      <td>Alastair Fothergill</td>\n      <td>Alastair Fothergill (director)</td>\n      <td>Jeff Wilson (co-director); Ed Helms</td>\n      <td>unknown</td>\n      <td>Drama</td>\n      <td>penguins</td>\n      <td>Alastair Fothergill (director) Jeff Wilson (co...</td>\n    </tr>\n    <tr>\n      <th>15</th>\n      <td>Michael Chaves</td>\n      <td>Linda Cardellini</td>\n      <td>Raymond Cruz</td>\n      <td>Patricia Velasquez</td>\n      <td>Drama</td>\n      <td>the curse of la llorona</td>\n      <td>Linda Cardellini Raymond Cruz Patricia Velasqu...</td>\n    </tr>\n    <tr>\n      <th>16</th>\n      <td>David Robert Mitchell</td>\n      <td>Andrew Garfield</td>\n      <td>Riley Keough</td>\n      <td>Topher Grace</td>\n      <td>Drama</td>\n      <td>under the silver lake</td>\n      <td>Andrew Garfield Riley Keough Topher Grace Davi...</td>\n    </tr>\n    <tr>\n      <th>17</th>\n      <td>Laura Steinel</td>\n      <td>Taylor Schilling</td>\n      <td>Brian Tyree Henry</td>\n      <td>Bryn Vale</td>\n      <td>Drama</td>\n      <td>family</td>\n      <td>Taylor Schilling Brian Tyree Henry Bryn Vale L...</td>\n    </tr>\n    <tr>\n      <th>18</th>\n      <td>Julia Hart</td>\n      <td>Gugu Mbatha-Raw</td>\n      <td>Lorraine Toussaint</td>\n      <td>Saniyya Sidney</td>\n      <td>Drama</td>\n      <td>fast color</td>\n      <td>Gugu Mbatha-Raw Lorraine Toussaint Saniyya Sid...</td>\n    </tr>\n    <tr>\n      <th>19</th>\n      <td>Jennifer Kaytin Robinson</td>\n      <td>Gina Rodriguez</td>\n      <td>Brittany Snow</td>\n      <td>DeWanda Wise</td>\n      <td>Drama</td>\n      <td>someone great</td>\n      <td>Gina Rodriguez Brittany Snow DeWanda Wise Jenn...</td>\n    </tr>\n    <tr>\n      <th>20</th>\n      <td>Meir Zarchi</td>\n      <td>Camille Keaton</td>\n      <td>Maria Olsen</td>\n      <td>Meir Zarchi</td>\n      <td>Drama</td>\n      <td>i spit on your grave: deja vu</td>\n      <td>Camille Keaton Maria Olsen Meir Zarchi Meir Za...</td>\n    </tr>\n    <tr>\n      <th>21</th>\n      <td>Anthony and Joe Russo</td>\n      <td>Robert Downey Jr.</td>\n      <td>Chris Evans</td>\n      <td>Mark Ruffalo</td>\n      <td>Drama</td>\n      <td>avengers: endgame</td>\n      <td>Robert Downey Jr. Chris Evans Mark Ruffalo Ant...</td>\n    </tr>\n    <tr>\n      <th>22</th>\n      <td>Josh Lobo</td>\n      <td>A. J. Bowen</td>\n      <td>Scott Poythress</td>\n      <td>Susan Burke</td>\n      <td>Drama</td>\n      <td>i trapped the devil</td>\n      <td>A. J. Bowen Scott Poythress Susan Burke Josh L...</td>\n    </tr>\n    <tr>\n      <th>23</th>\n      <td>Roxanne Benjamin</td>\n      <td>Karina Fontes</td>\n      <td>Casey Adams</td>\n      <td>Emily Althaus</td>\n      <td>Drama</td>\n      <td>body at brighton rock</td>\n      <td>Karina Fontes Casey Adams Emily Althaus Roxann...</td>\n    </tr>\n    <tr>\n      <th>24</th>\n      <td>Tanya Wexler</td>\n      <td>Zoey Deutch</td>\n      <td>Jermaine Fowler</td>\n      <td>Judy Greer</td>\n      <td>Drama</td>\n      <td>buffaloed</td>\n      <td>Zoey Deutch Jermaine Fowler Judy Greer Tanya W...</td>\n    </tr>\n    <tr>\n      <th>25</th>\n      <td>Jonathan Levine</td>\n      <td>Seth Rogen</td>\n      <td>Charlize Theron</td>\n      <td>O'Shea Jackson Jr.</td>\n      <td>Drama</td>\n      <td>long shot</td>\n      <td>Seth Rogen Charlize Theron O'Shea Jackson Jr. ...</td>\n    </tr>\n    <tr>\n      <th>26</th>\n      <td>Deon Taylor</td>\n      <td>Dennis Quaid</td>\n      <td>Michael Ealy</td>\n      <td>Meagan Good</td>\n      <td>Drama</td>\n      <td>the intruder</td>\n      <td>Dennis Quaid Michael Ealy Meagan Good Deon Tay...</td>\n    </tr>\n    <tr>\n      <th>27</th>\n      <td>Kelly Asbury</td>\n      <td>Kelly Clarkson</td>\n      <td>Pitbull</td>\n      <td>Nick Jonas</td>\n      <td>Drama</td>\n      <td>uglydolls</td>\n      <td>Kelly Clarkson Pitbull Nick Jonas Kelly Asbury...</td>\n    </tr>\n    <tr>\n      <th>28</th>\n      <td>Joe Berlinger</td>\n      <td>Zac Efron</td>\n      <td>Lily Collins</td>\n      <td>Kaya Scodelario</td>\n      <td>Drama</td>\n      <td>extremely wicked, shockingly evil and vile</td>\n      <td>Zac Efron Lily Collins Kaya Scodelario Joe Ber...</td>\n    </tr>\n    <tr>\n      <th>29</th>\n      <td>William Bindley</td>\n      <td>KJ Apa</td>\n      <td>Maia Mitchell</td>\n      <td>Jacob Latimore</td>\n      <td>Drama</td>\n      <td>the last summer</td>\n      <td>KJ Apa Maia Mitchell Jacob Latimore William Bi...</td>\n    </tr>\n    <tr>\n      <th>...</th>\n      <td>...</td>\n      <td>...</td>\n      <td>...</td>\n      <td>...</td>\n      <td>...</td>\n      <td>...</td>\n      <td>...</td>\n    </tr>\n    <tr>\n      <th>163</th>\n      <td>Bill Condon</td>\n      <td>Ian McKellen</td>\n      <td>Helen Mirren</td>\n      <td>Russell Tovey</td>\n      <td>Drama</td>\n      <td>the good liar</td>\n      <td>Ian McKellen Helen Mirren Russell Tovey Bill C...</td>\n    </tr>\n    <tr>\n      <th>164</th>\n      <td>Scott Z. Burns</td>\n      <td>Adam Driver</td>\n      <td>Annette Bening</td>\n      <td>Ted Levine</td>\n      <td>Drama</td>\n      <td>the report</td>\n      <td>Adam Driver Annette Bening Ted Levine Scott Z....</td>\n    </tr>\n    <tr>\n      <th>165</th>\n      <td>Trey Edward Shults</td>\n      <td>Kelvin Harrison Jr.</td>\n      <td>Lucas Hedges</td>\n      <td>Taylor Russell</td>\n      <td>Drama</td>\n      <td>waves</td>\n      <td>Kelvin Harrison Jr. Lucas Hedges Taylor Russel...</td>\n    </tr>\n    <tr>\n      <th>166</th>\n      <td>Chris Buck, Jennifer Lee</td>\n      <td>Idina Menzel</td>\n      <td>Kristen Bell</td>\n      <td>Jonathan Groff</td>\n      <td>Drama</td>\n      <td>frozen ii</td>\n      <td>Idina Menzel Kristen Bell Jonathan Groff Chris...</td>\n    </tr>\n    <tr>\n      <th>167</th>\n      <td>Marielle Heller</td>\n      <td>Tom Hanks</td>\n      <td>Matthew Rhys</td>\n      <td>Susan Kelechi Watson</td>\n      <td>Drama</td>\n      <td>a beautiful day in the neighborhood</td>\n      <td>Tom Hanks Matthew Rhys Susan Kelechi Watson Ma...</td>\n    </tr>\n    <tr>\n      <th>168</th>\n      <td>Brian Kirk</td>\n      <td>Chadwick Boseman</td>\n      <td>Sienna Miller</td>\n      <td>Stephan James</td>\n      <td>Drama</td>\n      <td>21 bridges</td>\n      <td>Chadwick Boseman Sienna Miller Stephan James B...</td>\n    </tr>\n    <tr>\n      <th>169</th>\n      <td>Todd Haynes</td>\n      <td>Mark Ruffalo</td>\n      <td>Anne Hathaway</td>\n      <td>Tim Robbins</td>\n      <td>Drama</td>\n      <td>dark waters</td>\n      <td>Mark Ruffalo Anne Hathaway Tim Robbins Todd Ha...</td>\n    </tr>\n    <tr>\n      <th>170</th>\n      <td>Rian Johnson</td>\n      <td>Daniel Craig</td>\n      <td>Chris Evans</td>\n      <td>Ana de Armas</td>\n      <td>Drama</td>\n      <td>knives out</td>\n      <td>Daniel Craig Chris Evans Ana de Armas Rian Joh...</td>\n    </tr>\n    <tr>\n      <th>171</th>\n      <td>Melina Matsoukas</td>\n      <td>Daniel Kaluuya</td>\n      <td>Jodie Turner-Smith</td>\n      <td>Bokeem Woodbine</td>\n      <td>Drama</td>\n      <td>queen &amp; slim</td>\n      <td>Daniel Kaluuya Jodie Turner-Smith Bokeem Woodb...</td>\n    </tr>\n    <tr>\n      <th>172</th>\n      <td>Fernando Meirelles</td>\n      <td>Anthony Hopkins</td>\n      <td>Jonathan Pryce</td>\n      <td>unknown</td>\n      <td>Drama</td>\n      <td>the two popes</td>\n      <td>Anthony Hopkins Jonathan Pryce unknown Fernand...</td>\n    </tr>\n    <tr>\n      <th>173</th>\n      <td>Lino DiSalvo</td>\n      <td>Anya Taylor-Joy</td>\n      <td>Daniel Radcliffe</td>\n      <td>Gabriel Bateman</td>\n      <td>Drama</td>\n      <td>playmobil: the movie</td>\n      <td>Anya Taylor-Joy Daniel Radcliffe Gabriel Batem...</td>\n    </tr>\n    <tr>\n      <th>174</th>\n      <td>Tom Harper</td>\n      <td>Felicity Jones</td>\n      <td>Eddie Redmayne</td>\n      <td>Himesh Patel</td>\n      <td>Drama</td>\n      <td>the aeronauts</td>\n      <td>Felicity Jones Eddie Redmayne Himesh Patel Tom...</td>\n    </tr>\n    <tr>\n      <th>175</th>\n      <td>Sam Taylor-Johnson</td>\n      <td>Aaron Taylor-Johnson</td>\n      <td>Billy Bob Thornton</td>\n      <td>Odessa Young</td>\n      <td>Drama</td>\n      <td>a million little pieces</td>\n      <td>Aaron Taylor-Johnson Billy Bob Thornton Odessa...</td>\n    </tr>\n    <tr>\n      <th>176</th>\n      <td>Adam Egypt Mortimer</td>\n      <td>Miles Robbins</td>\n      <td>Patrick Schwarzenegger</td>\n      <td>Sasha Lane</td>\n      <td>Drama</td>\n      <td>daniel isn't real</td>\n      <td>Miles Robbins Patrick Schwarzenegger Sasha Lan...</td>\n    </tr>\n    <tr>\n      <th>177</th>\n      <td>Jake Kasdan</td>\n      <td>Dwayne Johnson</td>\n      <td>Jack Black</td>\n      <td>Kevin Hart</td>\n      <td>Drama</td>\n      <td>jumanji: the next level</td>\n      <td>Dwayne Johnson Jack Black Kevin Hart Jake Kasd...</td>\n    </tr>\n    <tr>\n      <th>178</th>\n      <td>Clint Eastwood</td>\n      <td>Paul Walter Hauser</td>\n      <td>Sam Rockwell</td>\n      <td>Kathy Bates</td>\n      <td>Drama</td>\n      <td>richard jewell</td>\n      <td>Paul Walter Hauser Sam Rockwell Kathy Bates Cl...</td>\n    </tr>\n    <tr>\n      <th>179</th>\n      <td>Sophia Takal</td>\n      <td>Imogen Poots</td>\n      <td>Lily Donoghue</td>\n      <td>Aleyse Shannon</td>\n      <td>Drama</td>\n      <td>black christmas</td>\n      <td>Imogen Poots Lily Donoghue Aleyse Shannon Soph...</td>\n    </tr>\n    <tr>\n      <th>180</th>\n      <td>Michael Bay</td>\n      <td>Ryan Reynolds</td>\n      <td>Mélanie Laurent</td>\n      <td>Manuel Garcia-Rulfo</td>\n      <td>Drama</td>\n      <td>6 underground</td>\n      <td>Ryan Reynolds Mélanie Laurent Manuel Garcia-Ru...</td>\n    </tr>\n    <tr>\n      <th>181</th>\n      <td>Jay Roach</td>\n      <td>Charlize Theron</td>\n      <td>Nicole Kidman</td>\n      <td>Margot Robbie</td>\n      <td>Drama</td>\n      <td>bombshell</td>\n      <td>Charlize Theron Nicole Kidman Margot Robbie Ja...</td>\n    </tr>\n    <tr>\n      <th>182</th>\n      <td>Safdie brothers (directors/screenplay); Ronald...</td>\n      <td>Adam Sandler</td>\n      <td>Lakeith Stanfield</td>\n      <td>Julia Fox</td>\n      <td>Drama</td>\n      <td>uncut gems</td>\n      <td>Adam Sandler Lakeith Stanfield Julia Fox Safdi...</td>\n    </tr>\n    <tr>\n      <th>183</th>\n      <td>Benedict Andrews</td>\n      <td>Kristen Stewart</td>\n      <td>Jack O'Connell</td>\n      <td>Margaret Qualley</td>\n      <td>Drama</td>\n      <td>seberg</td>\n      <td>Kristen Stewart Jack O'Connell Margaret Qualle...</td>\n    </tr>\n    <tr>\n      <th>184</th>\n      <td>Terrence Malick</td>\n      <td>August Diehl</td>\n      <td>Valerie Pachner</td>\n      <td>Matthias Schoenaerts</td>\n      <td>Drama</td>\n      <td>a hidden life</td>\n      <td>August Diehl Valerie Pachner Matthias Schoenae...</td>\n    </tr>\n    <tr>\n      <th>185</th>\n      <td>J. J. Abrams</td>\n      <td>Carrie Fisher</td>\n      <td>Mark Hamill</td>\n      <td>Adam Driver</td>\n      <td>Drama</td>\n      <td>star wars: the rise of skywalker</td>\n      <td>Carrie Fisher Mark Hamill Adam Driver J. J. Ab...</td>\n    </tr>\n    <tr>\n      <th>186</th>\n      <td>Tom Hooper</td>\n      <td>James Corden</td>\n      <td>Judi Dench</td>\n      <td>Jason Derulo</td>\n      <td>Drama</td>\n      <td>cats</td>\n      <td>James Corden Judi Dench Jason Derulo Tom Hoope...</td>\n    </tr>\n    <tr>\n      <th>187</th>\n      <td>Ericson Core</td>\n      <td>Willem Dafoe</td>\n      <td>Julianne Nicholson</td>\n      <td>Christopher Heyerdahl</td>\n      <td>Drama</td>\n      <td>togo</td>\n      <td>Willem Dafoe Julianne Nicholson Christopher He...</td>\n    </tr>\n    <tr>\n      <th>188</th>\n      <td>Nick Bruno, Troy Quane</td>\n      <td>Will Smith</td>\n      <td>Tom Holland</td>\n      <td>Rashida Jones</td>\n      <td>Drama</td>\n      <td>spies in disguise</td>\n      <td>Will Smith Tom Holland Rashida Jones Nick Brun...</td>\n    </tr>\n    <tr>\n      <th>189</th>\n      <td>Greta Gerwig</td>\n      <td>Saoirse Ronan</td>\n      <td>Emma Watson</td>\n      <td>Florence Pugh</td>\n      <td>Drama</td>\n      <td>little women</td>\n      <td>Saoirse Ronan Emma Watson Florence Pugh Greta ...</td>\n    </tr>\n    <tr>\n      <th>190</th>\n      <td>Sam Mendes</td>\n      <td>George MacKay</td>\n      <td>Dean-Charles Chapman</td>\n      <td>Mark Strong</td>\n      <td>Drama</td>\n      <td>1917</td>\n      <td>George MacKay Dean-Charles Chapman Mark Strong...</td>\n    </tr>\n    <tr>\n      <th>191</th>\n      <td>Destin Daniel Cretton</td>\n      <td>Michael B. Jordan</td>\n      <td>Jamie Foxx</td>\n      <td>Brie Larson</td>\n      <td>Drama</td>\n      <td>just mercy</td>\n      <td>Michael B. Jordan Jamie Foxx Brie Larson Desti...</td>\n    </tr>\n    <tr>\n      <th>192</th>\n      <td>Chinonye Chukwu</td>\n      <td>Alfre Woodard</td>\n      <td>Wendell Pierce</td>\n      <td>Aldis Hodge</td>\n      <td>Drama</td>\n      <td>clemency</td>\n      <td>Alfre Woodard Wendell Pierce Aldis Hodge Chino...</td>\n    </tr>\n  </tbody>\n</table>\n<p>193 rows × 7 columns</p>\n</div>"
     },
     "metadata": {},
     "execution_count": 106
    }
   ],
   "source": [
    "new_df19"
   ]
  },
  {
   "cell_type": "code",
   "execution_count": 107,
   "metadata": {},
   "outputs": [],
   "source": [
    "my_df = new_df18.append(new_df19,ignore_index=True)"
   ]
  },
  {
   "cell_type": "code",
   "execution_count": 108,
   "metadata": {},
   "outputs": [
    {
     "output_type": "execute_result",
     "data": {
      "text/plain": [
       "                                         director_name  \\\n",
       "0                                         Adam Robitel   \n",
       "1                                     Lauren Wolkstein   \n",
       "2                                           Simon West   \n",
       "3                                     Warwick Thornton   \n",
       "4                                   Jaume Collet-Serra   \n",
       "5                                         Babak Najafi   \n",
       "6                                        Brett Donowho   \n",
       "7                                        Trudie Styler   \n",
       "8                                          Sam Hoffman   \n",
       "9                                       Daniela Thomas   \n",
       "10                                Hiromasa Yonebayashi   \n",
       "11                                     Nicolai Fuglsig   \n",
       "12                                  Christian Gudegast   \n",
       "13                                 Bethany Ashton Wolf   \n",
       "14                                            Wes Ball   \n",
       "15                                        Ziad Doueiri   \n",
       "16                                           Ben Lewin   \n",
       "17                                The Spierig Brothers   \n",
       "18                                     Sebastián Lelio   \n",
       "19                                   Mario Van Peebles   \n",
       "20                                         Julius Onah   \n",
       "21                                         Bryan Coyne   \n",
       "22                                          Will Gluck   \n",
       "23                                         James Foley   \n",
       "24                                      Clint Eastwood   \n",
       "25                               Marco Polo Constandse   \n",
       "26                                     Surendra Poudel   \n",
       "27                                         Brian Crano   \n",
       "28                                        Holger Tappe   \n",
       "29                                     Alex Ross Perry   \n",
       "..                                                 ...   \n",
       "432                                        Bill Condon   \n",
       "433                                     Scott Z. Burns   \n",
       "434                                 Trey Edward Shults   \n",
       "435                           Chris Buck, Jennifer Lee   \n",
       "436                                    Marielle Heller   \n",
       "437                                         Brian Kirk   \n",
       "438                                        Todd Haynes   \n",
       "439                                       Rian Johnson   \n",
       "440                                   Melina Matsoukas   \n",
       "441                                 Fernando Meirelles   \n",
       "442                                       Lino DiSalvo   \n",
       "443                                         Tom Harper   \n",
       "444                                 Sam Taylor-Johnson   \n",
       "445                                Adam Egypt Mortimer   \n",
       "446                                        Jake Kasdan   \n",
       "447                                     Clint Eastwood   \n",
       "448                                       Sophia Takal   \n",
       "449                                        Michael Bay   \n",
       "450                                          Jay Roach   \n",
       "451  Safdie brothers (directors/screenplay); Ronald...   \n",
       "452                                   Benedict Andrews   \n",
       "453                                    Terrence Malick   \n",
       "454                                       J. J. Abrams   \n",
       "455                                         Tom Hooper   \n",
       "456                                       Ericson Core   \n",
       "457                             Nick Bruno, Troy Quane   \n",
       "458                                       Greta Gerwig   \n",
       "459                                         Sam Mendes   \n",
       "460                              Destin Daniel Cretton   \n",
       "461                                    Chinonye Chukwu   \n",
       "\n",
       "                                        actor_1_name            actor_2_name  \\\n",
       "0                                          Lin Shaye           Angus Sampson   \n",
       "1                                      Alex Pettyfer  James Freedson-Jackson   \n",
       "2                                     Dominic Cooper          Austin Stowell   \n",
       "3                                        Bryan Brown               Sam Neill   \n",
       "4                                        Liam Neeson            Vera Farmiga   \n",
       "5                                   Taraji P. Henson             Billy Brown   \n",
       "6                                       Bruce Willis             Cole Hauser   \n",
       "7                                       Alex Lawther         Abigail Breslin   \n",
       "8                                    Jemaine Clement           Elliott Gould   \n",
       "9                                   Adriano Carvalho            Luana Nastas   \n",
       "10                                     Ruby Barnhill  Louis Ashbourne Serkis   \n",
       "11                                   Chris Hemsworth         Michael Shannon   \n",
       "12                                     Gerard Butler                 50 Cent   \n",
       "13                                          Alex Roe           Jessica Rothe   \n",
       "14                                     Dylan O'Brien         Kaya Scodelario   \n",
       "15                                        Adel Karam         Camille Salameh   \n",
       "16                                    Dakota Fanning           Toni Collette   \n",
       "17                                      Helen Mirren            Jason Clarke   \n",
       "18                                      Daniela Vega         Francisco Reyes   \n",
       "19                                 Mario Van Peebles        William Fichtner   \n",
       "20                                      Daniel Brühl       Elizabeth Debicki   \n",
       "21                                        Brea Grant          Graham Skipper   \n",
       "22                                      James Corden        Domhnall Gleeson   \n",
       "23                                    Dakota Johnson            Jamie Dornan   \n",
       "24                                    Anthony Sadler          Alek Skarlatos   \n",
       "25   Marco Polo Constandse (director); Omar Chaparro            Marimar Vega   \n",
       "26                                        Anmol K.C.        Aditi Budhathoki   \n",
       "27                                      Rebecca Hall             Dan Stevens   \n",
       "28                                      Emily Watson            Jason Isaacs   \n",
       "29                                    Emily Browning           Adam Horowitz   \n",
       "..                                               ...                     ...   \n",
       "432                                     Ian McKellen            Helen Mirren   \n",
       "433                                      Adam Driver          Annette Bening   \n",
       "434                              Kelvin Harrison Jr.            Lucas Hedges   \n",
       "435                                     Idina Menzel            Kristen Bell   \n",
       "436                                        Tom Hanks            Matthew Rhys   \n",
       "437                                 Chadwick Boseman           Sienna Miller   \n",
       "438                                     Mark Ruffalo           Anne Hathaway   \n",
       "439                                     Daniel Craig             Chris Evans   \n",
       "440                                   Daniel Kaluuya      Jodie Turner-Smith   \n",
       "441                                  Anthony Hopkins          Jonathan Pryce   \n",
       "442                                  Anya Taylor-Joy        Daniel Radcliffe   \n",
       "443                                   Felicity Jones          Eddie Redmayne   \n",
       "444                             Aaron Taylor-Johnson      Billy Bob Thornton   \n",
       "445                                    Miles Robbins  Patrick Schwarzenegger   \n",
       "446                                   Dwayne Johnson              Jack Black   \n",
       "447                               Paul Walter Hauser            Sam Rockwell   \n",
       "448                                     Imogen Poots           Lily Donoghue   \n",
       "449                                    Ryan Reynolds         Mélanie Laurent   \n",
       "450                                  Charlize Theron           Nicole Kidman   \n",
       "451                                     Adam Sandler       Lakeith Stanfield   \n",
       "452                                  Kristen Stewart          Jack O'Connell   \n",
       "453                                     August Diehl         Valerie Pachner   \n",
       "454                                    Carrie Fisher             Mark Hamill   \n",
       "455                                     James Corden              Judi Dench   \n",
       "456                                     Willem Dafoe      Julianne Nicholson   \n",
       "457                                       Will Smith             Tom Holland   \n",
       "458                                    Saoirse Ronan             Emma Watson   \n",
       "459                                    George MacKay    Dean-Charles Chapman   \n",
       "460                                Michael B. Jordan              Jamie Foxx   \n",
       "461                                    Alfre Woodard          Wendell Pierce   \n",
       "\n",
       "               actor_3_name genres                          movie_title  \\\n",
       "0            Leigh Whannell  Drama              insidious: the last key   \n",
       "1             Emily Althaus  Drama                     the strange ones   \n",
       "2                Gemma Chan  Drama                             stratton   \n",
       "3                   unknown  Drama                        sweet country   \n",
       "4            Patrick Wilson  Drama                         the commuter   \n",
       "5              Danny Glover  Drama                           proud mary   \n",
       "6             Shawn Ashmore  Drama                     acts of violence   \n",
       "7              Bette Midler  Drama                           freak show   \n",
       "8         Ingrid Michaelson  Drama                             humor me   \n",
       "9                   unknown  Drama                              vazante   \n",
       "10             Kate Winslet  Drama          mary and the witch's flower   \n",
       "11             Michael Peña  Drama                            12 strong   \n",
       "12          Pablo Schreiber  Drama                       den of thieves   \n",
       "13     John Benjamin Hickey  Drama                      forever my girl   \n",
       "14   Thomas Brodie-Sangster  Drama          maze runner: the death cure   \n",
       "15           Kamel El Basha  Drama                           the insult   \n",
       "16                Alice Eve  Drama                      please stand by   \n",
       "17              Sarah Snook  Drama                           winchester   \n",
       "18                  unknown  Drama                    a fantastic woman   \n",
       "19              Ryan Guzman  Drama                                armed   \n",
       "20             Aksel Hennie  Drama              the cloverfield paradox   \n",
       "21           Aly Fitzgerald  Drama                           bad apples   \n",
       "22               Rose Byrne  Drama                         peter rabbit   \n",
       "23             Kim Basinger  Drama                   fifty shades freed   \n",
       "24            Spencer Stone  Drama                   the 15:17 to paris   \n",
       "25              Ryan Carnes  Drama                 la boda de valentina   \n",
       "26       Anoop Bikram Shahi  Drama                                  kri   \n",
       "27           Morgan Spector  Drama                           permission   \n",
       "28               Nick Frost  Drama                       monster family   \n",
       "29       Mary-Louise Parker  Drama                         golden exits   \n",
       "..                      ...    ...                                  ...   \n",
       "432           Russell Tovey  Drama                        the good liar   \n",
       "433              Ted Levine  Drama                           the report   \n",
       "434          Taylor Russell  Drama                                waves   \n",
       "435          Jonathan Groff  Drama                            frozen ii   \n",
       "436    Susan Kelechi Watson  Drama  a beautiful day in the neighborhood   \n",
       "437           Stephan James  Drama                           21 bridges   \n",
       "438             Tim Robbins  Drama                          dark waters   \n",
       "439            Ana de Armas  Drama                           knives out   \n",
       "440         Bokeem Woodbine  Drama                         queen & slim   \n",
       "441                 unknown  Drama                        the two popes   \n",
       "442         Gabriel Bateman  Drama                 playmobil: the movie   \n",
       "443            Himesh Patel  Drama                        the aeronauts   \n",
       "444            Odessa Young  Drama              a million little pieces   \n",
       "445              Sasha Lane  Drama                    daniel isn't real   \n",
       "446              Kevin Hart  Drama              jumanji: the next level   \n",
       "447             Kathy Bates  Drama                       richard jewell   \n",
       "448          Aleyse Shannon  Drama                      black christmas   \n",
       "449     Manuel Garcia-Rulfo  Drama                        6 underground   \n",
       "450           Margot Robbie  Drama                            bombshell   \n",
       "451               Julia Fox  Drama                           uncut gems   \n",
       "452        Margaret Qualley  Drama                               seberg   \n",
       "453    Matthias Schoenaerts  Drama                        a hidden life   \n",
       "454             Adam Driver  Drama     star wars: the rise of skywalker   \n",
       "455            Jason Derulo  Drama                                 cats   \n",
       "456   Christopher Heyerdahl  Drama                                 togo   \n",
       "457           Rashida Jones  Drama                    spies in disguise   \n",
       "458           Florence Pugh  Drama                         little women   \n",
       "459             Mark Strong  Drama                                 1917   \n",
       "460             Brie Larson  Drama                           just mercy   \n",
       "461             Aldis Hodge  Drama                             clemency   \n",
       "\n",
       "                                                  comb  \n",
       "0    Lin Shaye Angus Sampson Leigh Whannell Adam Ro...  \n",
       "1    Alex Pettyfer James Freedson-Jackson Emily Alt...  \n",
       "2    Dominic Cooper Austin Stowell Gemma Chan Simon...  \n",
       "3    Bryan Brown Sam Neill unknown Warwick Thornton...  \n",
       "4    Liam Neeson Vera Farmiga Patrick Wilson Jaume ...  \n",
       "5    Taraji P. Henson Billy Brown Danny Glover Baba...  \n",
       "6    Bruce Willis Cole Hauser Shawn Ashmore Brett D...  \n",
       "7    Alex Lawther Abigail Breslin Bette Midler Trud...  \n",
       "8    Jemaine Clement Elliott Gould Ingrid Michaelso...  \n",
       "9    Adriano Carvalho Luana Nastas unknown Daniela ...  \n",
       "10   Ruby Barnhill Louis Ashbourne Serkis Kate Wins...  \n",
       "11   Chris Hemsworth Michael Shannon Michael Peña N...  \n",
       "12   Gerard Butler 50 Cent Pablo Schreiber Christia...  \n",
       "13   Alex Roe Jessica Rothe John Benjamin Hickey Be...  \n",
       "14   Dylan O'Brien Kaya Scodelario Thomas Brodie-Sa...  \n",
       "15   Adel Karam Camille Salameh Kamel El Basha Ziad...  \n",
       "16   Dakota Fanning Toni Collette Alice Eve Ben Lew...  \n",
       "17   Helen Mirren Jason Clarke Sarah Snook The Spie...  \n",
       "18   Daniela Vega Francisco Reyes unknown Sebastián...  \n",
       "19   Mario Van Peebles William Fichtner Ryan Guzman...  \n",
       "20   Daniel Brühl Elizabeth Debicki Aksel Hennie Ju...  \n",
       "21   Brea Grant Graham Skipper Aly Fitzgerald Bryan...  \n",
       "22   James Corden Domhnall Gleeson Rose Byrne Will ...  \n",
       "23   Dakota Johnson Jamie Dornan Kim Basinger James...  \n",
       "24   Anthony Sadler Alek Skarlatos Spencer Stone Cl...  \n",
       "25   Marco Polo Constandse (director); Omar Chaparr...  \n",
       "26   Anmol K.C. Aditi Budhathoki Anoop Bikram Shahi...  \n",
       "27   Rebecca Hall Dan Stevens Morgan Spector Brian ...  \n",
       "28   Emily Watson Jason Isaacs Nick Frost Holger Ta...  \n",
       "29   Emily Browning Adam Horowitz Mary-Louise Parke...  \n",
       "..                                                 ...  \n",
       "432  Ian McKellen Helen Mirren Russell Tovey Bill C...  \n",
       "433  Adam Driver Annette Bening Ted Levine Scott Z....  \n",
       "434  Kelvin Harrison Jr. Lucas Hedges Taylor Russel...  \n",
       "435  Idina Menzel Kristen Bell Jonathan Groff Chris...  \n",
       "436  Tom Hanks Matthew Rhys Susan Kelechi Watson Ma...  \n",
       "437  Chadwick Boseman Sienna Miller Stephan James B...  \n",
       "438  Mark Ruffalo Anne Hathaway Tim Robbins Todd Ha...  \n",
       "439  Daniel Craig Chris Evans Ana de Armas Rian Joh...  \n",
       "440  Daniel Kaluuya Jodie Turner-Smith Bokeem Woodb...  \n",
       "441  Anthony Hopkins Jonathan Pryce unknown Fernand...  \n",
       "442  Anya Taylor-Joy Daniel Radcliffe Gabriel Batem...  \n",
       "443  Felicity Jones Eddie Redmayne Himesh Patel Tom...  \n",
       "444  Aaron Taylor-Johnson Billy Bob Thornton Odessa...  \n",
       "445  Miles Robbins Patrick Schwarzenegger Sasha Lan...  \n",
       "446  Dwayne Johnson Jack Black Kevin Hart Jake Kasd...  \n",
       "447  Paul Walter Hauser Sam Rockwell Kathy Bates Cl...  \n",
       "448  Imogen Poots Lily Donoghue Aleyse Shannon Soph...  \n",
       "449  Ryan Reynolds Mélanie Laurent Manuel Garcia-Ru...  \n",
       "450  Charlize Theron Nicole Kidman Margot Robbie Ja...  \n",
       "451  Adam Sandler Lakeith Stanfield Julia Fox Safdi...  \n",
       "452  Kristen Stewart Jack O'Connell Margaret Qualle...  \n",
       "453  August Diehl Valerie Pachner Matthias Schoenae...  \n",
       "454  Carrie Fisher Mark Hamill Adam Driver J. J. Ab...  \n",
       "455  James Corden Judi Dench Jason Derulo Tom Hoope...  \n",
       "456  Willem Dafoe Julianne Nicholson Christopher He...  \n",
       "457  Will Smith Tom Holland Rashida Jones Nick Brun...  \n",
       "458  Saoirse Ronan Emma Watson Florence Pugh Greta ...  \n",
       "459  George MacKay Dean-Charles Chapman Mark Strong...  \n",
       "460  Michael B. Jordan Jamie Foxx Brie Larson Desti...  \n",
       "461  Alfre Woodard Wendell Pierce Aldis Hodge Chino...  \n",
       "\n",
       "[462 rows x 7 columns]"
      ],
      "text/html": "<div>\n<style scoped>\n    .dataframe tbody tr th:only-of-type {\n        vertical-align: middle;\n    }\n\n    .dataframe tbody tr th {\n        vertical-align: top;\n    }\n\n    .dataframe thead th {\n        text-align: right;\n    }\n</style>\n<table border=\"1\" class=\"dataframe\">\n  <thead>\n    <tr style=\"text-align: right;\">\n      <th></th>\n      <th>director_name</th>\n      <th>actor_1_name</th>\n      <th>actor_2_name</th>\n      <th>actor_3_name</th>\n      <th>genres</th>\n      <th>movie_title</th>\n      <th>comb</th>\n    </tr>\n  </thead>\n  <tbody>\n    <tr>\n      <th>0</th>\n      <td>Adam Robitel</td>\n      <td>Lin Shaye</td>\n      <td>Angus Sampson</td>\n      <td>Leigh Whannell</td>\n      <td>Drama</td>\n      <td>insidious: the last key</td>\n      <td>Lin Shaye Angus Sampson Leigh Whannell Adam Ro...</td>\n    </tr>\n    <tr>\n      <th>1</th>\n      <td>Lauren Wolkstein</td>\n      <td>Alex Pettyfer</td>\n      <td>James Freedson-Jackson</td>\n      <td>Emily Althaus</td>\n      <td>Drama</td>\n      <td>the strange ones</td>\n      <td>Alex Pettyfer James Freedson-Jackson Emily Alt...</td>\n    </tr>\n    <tr>\n      <th>2</th>\n      <td>Simon West</td>\n      <td>Dominic Cooper</td>\n      <td>Austin Stowell</td>\n      <td>Gemma Chan</td>\n      <td>Drama</td>\n      <td>stratton</td>\n      <td>Dominic Cooper Austin Stowell Gemma Chan Simon...</td>\n    </tr>\n    <tr>\n      <th>3</th>\n      <td>Warwick Thornton</td>\n      <td>Bryan Brown</td>\n      <td>Sam Neill</td>\n      <td>unknown</td>\n      <td>Drama</td>\n      <td>sweet country</td>\n      <td>Bryan Brown Sam Neill unknown Warwick Thornton...</td>\n    </tr>\n    <tr>\n      <th>4</th>\n      <td>Jaume Collet-Serra</td>\n      <td>Liam Neeson</td>\n      <td>Vera Farmiga</td>\n      <td>Patrick Wilson</td>\n      <td>Drama</td>\n      <td>the commuter</td>\n      <td>Liam Neeson Vera Farmiga Patrick Wilson Jaume ...</td>\n    </tr>\n    <tr>\n      <th>5</th>\n      <td>Babak Najafi</td>\n      <td>Taraji P. Henson</td>\n      <td>Billy Brown</td>\n      <td>Danny Glover</td>\n      <td>Drama</td>\n      <td>proud mary</td>\n      <td>Taraji P. Henson Billy Brown Danny Glover Baba...</td>\n    </tr>\n    <tr>\n      <th>6</th>\n      <td>Brett Donowho</td>\n      <td>Bruce Willis</td>\n      <td>Cole Hauser</td>\n      <td>Shawn Ashmore</td>\n      <td>Drama</td>\n      <td>acts of violence</td>\n      <td>Bruce Willis Cole Hauser Shawn Ashmore Brett D...</td>\n    </tr>\n    <tr>\n      <th>7</th>\n      <td>Trudie Styler</td>\n      <td>Alex Lawther</td>\n      <td>Abigail Breslin</td>\n      <td>Bette Midler</td>\n      <td>Drama</td>\n      <td>freak show</td>\n      <td>Alex Lawther Abigail Breslin Bette Midler Trud...</td>\n    </tr>\n    <tr>\n      <th>8</th>\n      <td>Sam Hoffman</td>\n      <td>Jemaine Clement</td>\n      <td>Elliott Gould</td>\n      <td>Ingrid Michaelson</td>\n      <td>Drama</td>\n      <td>humor me</td>\n      <td>Jemaine Clement Elliott Gould Ingrid Michaelso...</td>\n    </tr>\n    <tr>\n      <th>9</th>\n      <td>Daniela Thomas</td>\n      <td>Adriano Carvalho</td>\n      <td>Luana Nastas</td>\n      <td>unknown</td>\n      <td>Drama</td>\n      <td>vazante</td>\n      <td>Adriano Carvalho Luana Nastas unknown Daniela ...</td>\n    </tr>\n    <tr>\n      <th>10</th>\n      <td>Hiromasa Yonebayashi</td>\n      <td>Ruby Barnhill</td>\n      <td>Louis Ashbourne Serkis</td>\n      <td>Kate Winslet</td>\n      <td>Drama</td>\n      <td>mary and the witch's flower</td>\n      <td>Ruby Barnhill Louis Ashbourne Serkis Kate Wins...</td>\n    </tr>\n    <tr>\n      <th>11</th>\n      <td>Nicolai Fuglsig</td>\n      <td>Chris Hemsworth</td>\n      <td>Michael Shannon</td>\n      <td>Michael Peña</td>\n      <td>Drama</td>\n      <td>12 strong</td>\n      <td>Chris Hemsworth Michael Shannon Michael Peña N...</td>\n    </tr>\n    <tr>\n      <th>12</th>\n      <td>Christian Gudegast</td>\n      <td>Gerard Butler</td>\n      <td>50 Cent</td>\n      <td>Pablo Schreiber</td>\n      <td>Drama</td>\n      <td>den of thieves</td>\n      <td>Gerard Butler 50 Cent Pablo Schreiber Christia...</td>\n    </tr>\n    <tr>\n      <th>13</th>\n      <td>Bethany Ashton Wolf</td>\n      <td>Alex Roe</td>\n      <td>Jessica Rothe</td>\n      <td>John Benjamin Hickey</td>\n      <td>Drama</td>\n      <td>forever my girl</td>\n      <td>Alex Roe Jessica Rothe John Benjamin Hickey Be...</td>\n    </tr>\n    <tr>\n      <th>14</th>\n      <td>Wes Ball</td>\n      <td>Dylan O'Brien</td>\n      <td>Kaya Scodelario</td>\n      <td>Thomas Brodie-Sangster</td>\n      <td>Drama</td>\n      <td>maze runner: the death cure</td>\n      <td>Dylan O'Brien Kaya Scodelario Thomas Brodie-Sa...</td>\n    </tr>\n    <tr>\n      <th>15</th>\n      <td>Ziad Doueiri</td>\n      <td>Adel Karam</td>\n      <td>Camille Salameh</td>\n      <td>Kamel El Basha</td>\n      <td>Drama</td>\n      <td>the insult</td>\n      <td>Adel Karam Camille Salameh Kamel El Basha Ziad...</td>\n    </tr>\n    <tr>\n      <th>16</th>\n      <td>Ben Lewin</td>\n      <td>Dakota Fanning</td>\n      <td>Toni Collette</td>\n      <td>Alice Eve</td>\n      <td>Drama</td>\n      <td>please stand by</td>\n      <td>Dakota Fanning Toni Collette Alice Eve Ben Lew...</td>\n    </tr>\n    <tr>\n      <th>17</th>\n      <td>The Spierig Brothers</td>\n      <td>Helen Mirren</td>\n      <td>Jason Clarke</td>\n      <td>Sarah Snook</td>\n      <td>Drama</td>\n      <td>winchester</td>\n      <td>Helen Mirren Jason Clarke Sarah Snook The Spie...</td>\n    </tr>\n    <tr>\n      <th>18</th>\n      <td>Sebastián Lelio</td>\n      <td>Daniela Vega</td>\n      <td>Francisco Reyes</td>\n      <td>unknown</td>\n      <td>Drama</td>\n      <td>a fantastic woman</td>\n      <td>Daniela Vega Francisco Reyes unknown Sebastián...</td>\n    </tr>\n    <tr>\n      <th>19</th>\n      <td>Mario Van Peebles</td>\n      <td>Mario Van Peebles</td>\n      <td>William Fichtner</td>\n      <td>Ryan Guzman</td>\n      <td>Drama</td>\n      <td>armed</td>\n      <td>Mario Van Peebles William Fichtner Ryan Guzman...</td>\n    </tr>\n    <tr>\n      <th>20</th>\n      <td>Julius Onah</td>\n      <td>Daniel Brühl</td>\n      <td>Elizabeth Debicki</td>\n      <td>Aksel Hennie</td>\n      <td>Drama</td>\n      <td>the cloverfield paradox</td>\n      <td>Daniel Brühl Elizabeth Debicki Aksel Hennie Ju...</td>\n    </tr>\n    <tr>\n      <th>21</th>\n      <td>Bryan Coyne</td>\n      <td>Brea Grant</td>\n      <td>Graham Skipper</td>\n      <td>Aly Fitzgerald</td>\n      <td>Drama</td>\n      <td>bad apples</td>\n      <td>Brea Grant Graham Skipper Aly Fitzgerald Bryan...</td>\n    </tr>\n    <tr>\n      <th>22</th>\n      <td>Will Gluck</td>\n      <td>James Corden</td>\n      <td>Domhnall Gleeson</td>\n      <td>Rose Byrne</td>\n      <td>Drama</td>\n      <td>peter rabbit</td>\n      <td>James Corden Domhnall Gleeson Rose Byrne Will ...</td>\n    </tr>\n    <tr>\n      <th>23</th>\n      <td>James Foley</td>\n      <td>Dakota Johnson</td>\n      <td>Jamie Dornan</td>\n      <td>Kim Basinger</td>\n      <td>Drama</td>\n      <td>fifty shades freed</td>\n      <td>Dakota Johnson Jamie Dornan Kim Basinger James...</td>\n    </tr>\n    <tr>\n      <th>24</th>\n      <td>Clint Eastwood</td>\n      <td>Anthony Sadler</td>\n      <td>Alek Skarlatos</td>\n      <td>Spencer Stone</td>\n      <td>Drama</td>\n      <td>the 15:17 to paris</td>\n      <td>Anthony Sadler Alek Skarlatos Spencer Stone Cl...</td>\n    </tr>\n    <tr>\n      <th>25</th>\n      <td>Marco Polo Constandse</td>\n      <td>Marco Polo Constandse (director); Omar Chaparro</td>\n      <td>Marimar Vega</td>\n      <td>Ryan Carnes</td>\n      <td>Drama</td>\n      <td>la boda de valentina</td>\n      <td>Marco Polo Constandse (director); Omar Chaparr...</td>\n    </tr>\n    <tr>\n      <th>26</th>\n      <td>Surendra Poudel</td>\n      <td>Anmol K.C.</td>\n      <td>Aditi Budhathoki</td>\n      <td>Anoop Bikram Shahi</td>\n      <td>Drama</td>\n      <td>kri</td>\n      <td>Anmol K.C. Aditi Budhathoki Anoop Bikram Shahi...</td>\n    </tr>\n    <tr>\n      <th>27</th>\n      <td>Brian Crano</td>\n      <td>Rebecca Hall</td>\n      <td>Dan Stevens</td>\n      <td>Morgan Spector</td>\n      <td>Drama</td>\n      <td>permission</td>\n      <td>Rebecca Hall Dan Stevens Morgan Spector Brian ...</td>\n    </tr>\n    <tr>\n      <th>28</th>\n      <td>Holger Tappe</td>\n      <td>Emily Watson</td>\n      <td>Jason Isaacs</td>\n      <td>Nick Frost</td>\n      <td>Drama</td>\n      <td>monster family</td>\n      <td>Emily Watson Jason Isaacs Nick Frost Holger Ta...</td>\n    </tr>\n    <tr>\n      <th>29</th>\n      <td>Alex Ross Perry</td>\n      <td>Emily Browning</td>\n      <td>Adam Horowitz</td>\n      <td>Mary-Louise Parker</td>\n      <td>Drama</td>\n      <td>golden exits</td>\n      <td>Emily Browning Adam Horowitz Mary-Louise Parke...</td>\n    </tr>\n    <tr>\n      <th>...</th>\n      <td>...</td>\n      <td>...</td>\n      <td>...</td>\n      <td>...</td>\n      <td>...</td>\n      <td>...</td>\n      <td>...</td>\n    </tr>\n    <tr>\n      <th>432</th>\n      <td>Bill Condon</td>\n      <td>Ian McKellen</td>\n      <td>Helen Mirren</td>\n      <td>Russell Tovey</td>\n      <td>Drama</td>\n      <td>the good liar</td>\n      <td>Ian McKellen Helen Mirren Russell Tovey Bill C...</td>\n    </tr>\n    <tr>\n      <th>433</th>\n      <td>Scott Z. Burns</td>\n      <td>Adam Driver</td>\n      <td>Annette Bening</td>\n      <td>Ted Levine</td>\n      <td>Drama</td>\n      <td>the report</td>\n      <td>Adam Driver Annette Bening Ted Levine Scott Z....</td>\n    </tr>\n    <tr>\n      <th>434</th>\n      <td>Trey Edward Shults</td>\n      <td>Kelvin Harrison Jr.</td>\n      <td>Lucas Hedges</td>\n      <td>Taylor Russell</td>\n      <td>Drama</td>\n      <td>waves</td>\n      <td>Kelvin Harrison Jr. Lucas Hedges Taylor Russel...</td>\n    </tr>\n    <tr>\n      <th>435</th>\n      <td>Chris Buck, Jennifer Lee</td>\n      <td>Idina Menzel</td>\n      <td>Kristen Bell</td>\n      <td>Jonathan Groff</td>\n      <td>Drama</td>\n      <td>frozen ii</td>\n      <td>Idina Menzel Kristen Bell Jonathan Groff Chris...</td>\n    </tr>\n    <tr>\n      <th>436</th>\n      <td>Marielle Heller</td>\n      <td>Tom Hanks</td>\n      <td>Matthew Rhys</td>\n      <td>Susan Kelechi Watson</td>\n      <td>Drama</td>\n      <td>a beautiful day in the neighborhood</td>\n      <td>Tom Hanks Matthew Rhys Susan Kelechi Watson Ma...</td>\n    </tr>\n    <tr>\n      <th>437</th>\n      <td>Brian Kirk</td>\n      <td>Chadwick Boseman</td>\n      <td>Sienna Miller</td>\n      <td>Stephan James</td>\n      <td>Drama</td>\n      <td>21 bridges</td>\n      <td>Chadwick Boseman Sienna Miller Stephan James B...</td>\n    </tr>\n    <tr>\n      <th>438</th>\n      <td>Todd Haynes</td>\n      <td>Mark Ruffalo</td>\n      <td>Anne Hathaway</td>\n      <td>Tim Robbins</td>\n      <td>Drama</td>\n      <td>dark waters</td>\n      <td>Mark Ruffalo Anne Hathaway Tim Robbins Todd Ha...</td>\n    </tr>\n    <tr>\n      <th>439</th>\n      <td>Rian Johnson</td>\n      <td>Daniel Craig</td>\n      <td>Chris Evans</td>\n      <td>Ana de Armas</td>\n      <td>Drama</td>\n      <td>knives out</td>\n      <td>Daniel Craig Chris Evans Ana de Armas Rian Joh...</td>\n    </tr>\n    <tr>\n      <th>440</th>\n      <td>Melina Matsoukas</td>\n      <td>Daniel Kaluuya</td>\n      <td>Jodie Turner-Smith</td>\n      <td>Bokeem Woodbine</td>\n      <td>Drama</td>\n      <td>queen &amp; slim</td>\n      <td>Daniel Kaluuya Jodie Turner-Smith Bokeem Woodb...</td>\n    </tr>\n    <tr>\n      <th>441</th>\n      <td>Fernando Meirelles</td>\n      <td>Anthony Hopkins</td>\n      <td>Jonathan Pryce</td>\n      <td>unknown</td>\n      <td>Drama</td>\n      <td>the two popes</td>\n      <td>Anthony Hopkins Jonathan Pryce unknown Fernand...</td>\n    </tr>\n    <tr>\n      <th>442</th>\n      <td>Lino DiSalvo</td>\n      <td>Anya Taylor-Joy</td>\n      <td>Daniel Radcliffe</td>\n      <td>Gabriel Bateman</td>\n      <td>Drama</td>\n      <td>playmobil: the movie</td>\n      <td>Anya Taylor-Joy Daniel Radcliffe Gabriel Batem...</td>\n    </tr>\n    <tr>\n      <th>443</th>\n      <td>Tom Harper</td>\n      <td>Felicity Jones</td>\n      <td>Eddie Redmayne</td>\n      <td>Himesh Patel</td>\n      <td>Drama</td>\n      <td>the aeronauts</td>\n      <td>Felicity Jones Eddie Redmayne Himesh Patel Tom...</td>\n    </tr>\n    <tr>\n      <th>444</th>\n      <td>Sam Taylor-Johnson</td>\n      <td>Aaron Taylor-Johnson</td>\n      <td>Billy Bob Thornton</td>\n      <td>Odessa Young</td>\n      <td>Drama</td>\n      <td>a million little pieces</td>\n      <td>Aaron Taylor-Johnson Billy Bob Thornton Odessa...</td>\n    </tr>\n    <tr>\n      <th>445</th>\n      <td>Adam Egypt Mortimer</td>\n      <td>Miles Robbins</td>\n      <td>Patrick Schwarzenegger</td>\n      <td>Sasha Lane</td>\n      <td>Drama</td>\n      <td>daniel isn't real</td>\n      <td>Miles Robbins Patrick Schwarzenegger Sasha Lan...</td>\n    </tr>\n    <tr>\n      <th>446</th>\n      <td>Jake Kasdan</td>\n      <td>Dwayne Johnson</td>\n      <td>Jack Black</td>\n      <td>Kevin Hart</td>\n      <td>Drama</td>\n      <td>jumanji: the next level</td>\n      <td>Dwayne Johnson Jack Black Kevin Hart Jake Kasd...</td>\n    </tr>\n    <tr>\n      <th>447</th>\n      <td>Clint Eastwood</td>\n      <td>Paul Walter Hauser</td>\n      <td>Sam Rockwell</td>\n      <td>Kathy Bates</td>\n      <td>Drama</td>\n      <td>richard jewell</td>\n      <td>Paul Walter Hauser Sam Rockwell Kathy Bates Cl...</td>\n    </tr>\n    <tr>\n      <th>448</th>\n      <td>Sophia Takal</td>\n      <td>Imogen Poots</td>\n      <td>Lily Donoghue</td>\n      <td>Aleyse Shannon</td>\n      <td>Drama</td>\n      <td>black christmas</td>\n      <td>Imogen Poots Lily Donoghue Aleyse Shannon Soph...</td>\n    </tr>\n    <tr>\n      <th>449</th>\n      <td>Michael Bay</td>\n      <td>Ryan Reynolds</td>\n      <td>Mélanie Laurent</td>\n      <td>Manuel Garcia-Rulfo</td>\n      <td>Drama</td>\n      <td>6 underground</td>\n      <td>Ryan Reynolds Mélanie Laurent Manuel Garcia-Ru...</td>\n    </tr>\n    <tr>\n      <th>450</th>\n      <td>Jay Roach</td>\n      <td>Charlize Theron</td>\n      <td>Nicole Kidman</td>\n      <td>Margot Robbie</td>\n      <td>Drama</td>\n      <td>bombshell</td>\n      <td>Charlize Theron Nicole Kidman Margot Robbie Ja...</td>\n    </tr>\n    <tr>\n      <th>451</th>\n      <td>Safdie brothers (directors/screenplay); Ronald...</td>\n      <td>Adam Sandler</td>\n      <td>Lakeith Stanfield</td>\n      <td>Julia Fox</td>\n      <td>Drama</td>\n      <td>uncut gems</td>\n      <td>Adam Sandler Lakeith Stanfield Julia Fox Safdi...</td>\n    </tr>\n    <tr>\n      <th>452</th>\n      <td>Benedict Andrews</td>\n      <td>Kristen Stewart</td>\n      <td>Jack O'Connell</td>\n      <td>Margaret Qualley</td>\n      <td>Drama</td>\n      <td>seberg</td>\n      <td>Kristen Stewart Jack O'Connell Margaret Qualle...</td>\n    </tr>\n    <tr>\n      <th>453</th>\n      <td>Terrence Malick</td>\n      <td>August Diehl</td>\n      <td>Valerie Pachner</td>\n      <td>Matthias Schoenaerts</td>\n      <td>Drama</td>\n      <td>a hidden life</td>\n      <td>August Diehl Valerie Pachner Matthias Schoenae...</td>\n    </tr>\n    <tr>\n      <th>454</th>\n      <td>J. J. Abrams</td>\n      <td>Carrie Fisher</td>\n      <td>Mark Hamill</td>\n      <td>Adam Driver</td>\n      <td>Drama</td>\n      <td>star wars: the rise of skywalker</td>\n      <td>Carrie Fisher Mark Hamill Adam Driver J. J. Ab...</td>\n    </tr>\n    <tr>\n      <th>455</th>\n      <td>Tom Hooper</td>\n      <td>James Corden</td>\n      <td>Judi Dench</td>\n      <td>Jason Derulo</td>\n      <td>Drama</td>\n      <td>cats</td>\n      <td>James Corden Judi Dench Jason Derulo Tom Hoope...</td>\n    </tr>\n    <tr>\n      <th>456</th>\n      <td>Ericson Core</td>\n      <td>Willem Dafoe</td>\n      <td>Julianne Nicholson</td>\n      <td>Christopher Heyerdahl</td>\n      <td>Drama</td>\n      <td>togo</td>\n      <td>Willem Dafoe Julianne Nicholson Christopher He...</td>\n    </tr>\n    <tr>\n      <th>457</th>\n      <td>Nick Bruno, Troy Quane</td>\n      <td>Will Smith</td>\n      <td>Tom Holland</td>\n      <td>Rashida Jones</td>\n      <td>Drama</td>\n      <td>spies in disguise</td>\n      <td>Will Smith Tom Holland Rashida Jones Nick Brun...</td>\n    </tr>\n    <tr>\n      <th>458</th>\n      <td>Greta Gerwig</td>\n      <td>Saoirse Ronan</td>\n      <td>Emma Watson</td>\n      <td>Florence Pugh</td>\n      <td>Drama</td>\n      <td>little women</td>\n      <td>Saoirse Ronan Emma Watson Florence Pugh Greta ...</td>\n    </tr>\n    <tr>\n      <th>459</th>\n      <td>Sam Mendes</td>\n      <td>George MacKay</td>\n      <td>Dean-Charles Chapman</td>\n      <td>Mark Strong</td>\n      <td>Drama</td>\n      <td>1917</td>\n      <td>George MacKay Dean-Charles Chapman Mark Strong...</td>\n    </tr>\n    <tr>\n      <th>460</th>\n      <td>Destin Daniel Cretton</td>\n      <td>Michael B. Jordan</td>\n      <td>Jamie Foxx</td>\n      <td>Brie Larson</td>\n      <td>Drama</td>\n      <td>just mercy</td>\n      <td>Michael B. Jordan Jamie Foxx Brie Larson Desti...</td>\n    </tr>\n    <tr>\n      <th>461</th>\n      <td>Chinonye Chukwu</td>\n      <td>Alfre Woodard</td>\n      <td>Wendell Pierce</td>\n      <td>Aldis Hodge</td>\n      <td>Drama</td>\n      <td>clemency</td>\n      <td>Alfre Woodard Wendell Pierce Aldis Hodge Chino...</td>\n    </tr>\n  </tbody>\n</table>\n<p>462 rows × 7 columns</p>\n</div>"
     },
     "metadata": {},
     "execution_count": 108
    }
   ],
   "source": [
    "my_df"
   ]
  },
  {
   "cell_type": "code",
   "execution_count": 109,
   "metadata": {},
   "outputs": [],
   "source": [
    "old_df = pd.read_csv('../datasets/new_data.csv')"
   ]
  },
  {
   "cell_type": "code",
   "execution_count": 110,
   "metadata": {},
   "outputs": [
    {
     "output_type": "execute_result",
     "data": {
      "text/plain": [
       "       director_name     actor_1_name      actor_2_name          actor_3_name  \\\n",
       "0      James Cameron      CCH Pounder  Joel David Moore             Wes Studi   \n",
       "1     Gore Verbinski      Johnny Depp     Orlando Bloom        Jack Davenport   \n",
       "2         Sam Mendes  Christoph Waltz      Rory Kinnear      Stephanie Sigman   \n",
       "3  Christopher Nolan        Tom Hardy    Christian Bale  Joseph Gordon-Levitt   \n",
       "4        Doug Walker      Doug Walker        Rob Walker               unknown   \n",
       "\n",
       "                            genres  \\\n",
       "0  Action Adventure Fantasy Sci-Fi   \n",
       "1         Action Adventure Fantasy   \n",
       "2        Action Adventure Thriller   \n",
       "3                  Action Thriller   \n",
       "4                      Documentary   \n",
       "\n",
       "                                         movie_title  \\\n",
       "0                                             avatar   \n",
       "1           pirates of the caribbean: at world's end   \n",
       "2                                            spectre   \n",
       "3                              the dark knight rises   \n",
       "4  star wars: episode vii - the force awakens    ...   \n",
       "\n",
       "                                                comb  \n",
       "0  CCH Pounder Joel David Moore Wes Studi James C...  \n",
       "1  Johnny Depp Orlando Bloom Jack Davenport Gore ...  \n",
       "2  Christoph Waltz Rory Kinnear Stephanie Sigman ...  \n",
       "3  Tom Hardy Christian Bale Joseph Gordon-Levitt ...  \n",
       "4  Doug Walker Rob Walker unknown Doug Walker Doc...  "
      ],
      "text/html": "<div>\n<style scoped>\n    .dataframe tbody tr th:only-of-type {\n        vertical-align: middle;\n    }\n\n    .dataframe tbody tr th {\n        vertical-align: top;\n    }\n\n    .dataframe thead th {\n        text-align: right;\n    }\n</style>\n<table border=\"1\" class=\"dataframe\">\n  <thead>\n    <tr style=\"text-align: right;\">\n      <th></th>\n      <th>director_name</th>\n      <th>actor_1_name</th>\n      <th>actor_2_name</th>\n      <th>actor_3_name</th>\n      <th>genres</th>\n      <th>movie_title</th>\n      <th>comb</th>\n    </tr>\n  </thead>\n  <tbody>\n    <tr>\n      <th>0</th>\n      <td>James Cameron</td>\n      <td>CCH Pounder</td>\n      <td>Joel David Moore</td>\n      <td>Wes Studi</td>\n      <td>Action Adventure Fantasy Sci-Fi</td>\n      <td>avatar</td>\n      <td>CCH Pounder Joel David Moore Wes Studi James C...</td>\n    </tr>\n    <tr>\n      <th>1</th>\n      <td>Gore Verbinski</td>\n      <td>Johnny Depp</td>\n      <td>Orlando Bloom</td>\n      <td>Jack Davenport</td>\n      <td>Action Adventure Fantasy</td>\n      <td>pirates of the caribbean: at world's end</td>\n      <td>Johnny Depp Orlando Bloom Jack Davenport Gore ...</td>\n    </tr>\n    <tr>\n      <th>2</th>\n      <td>Sam Mendes</td>\n      <td>Christoph Waltz</td>\n      <td>Rory Kinnear</td>\n      <td>Stephanie Sigman</td>\n      <td>Action Adventure Thriller</td>\n      <td>spectre</td>\n      <td>Christoph Waltz Rory Kinnear Stephanie Sigman ...</td>\n    </tr>\n    <tr>\n      <th>3</th>\n      <td>Christopher Nolan</td>\n      <td>Tom Hardy</td>\n      <td>Christian Bale</td>\n      <td>Joseph Gordon-Levitt</td>\n      <td>Action Thriller</td>\n      <td>the dark knight rises</td>\n      <td>Tom Hardy Christian Bale Joseph Gordon-Levitt ...</td>\n    </tr>\n    <tr>\n      <th>4</th>\n      <td>Doug Walker</td>\n      <td>Doug Walker</td>\n      <td>Rob Walker</td>\n      <td>unknown</td>\n      <td>Documentary</td>\n      <td>star wars: episode vii - the force awakens    ...</td>\n      <td>Doug Walker Rob Walker unknown Doug Walker Doc...</td>\n    </tr>\n  </tbody>\n</table>\n</div>"
     },
     "metadata": {},
     "execution_count": 110
    }
   ],
   "source": [
    "old_df.head()"
   ]
  },
  {
   "cell_type": "code",
   "execution_count": 111,
   "metadata": {},
   "outputs": [],
   "source": [
    "final_df = old_df.append(my_df,ignore_index=True)"
   ]
  },
  {
   "cell_type": "code",
   "execution_count": 112,
   "metadata": {},
   "outputs": [
    {
     "output_type": "execute_result",
     "data": {
      "text/plain": [
       "       director_name     actor_1_name      actor_2_name          actor_3_name  \\\n",
       "0      James Cameron      CCH Pounder  Joel David Moore             Wes Studi   \n",
       "1     Gore Verbinski      Johnny Depp     Orlando Bloom        Jack Davenport   \n",
       "2         Sam Mendes  Christoph Waltz      Rory Kinnear      Stephanie Sigman   \n",
       "3  Christopher Nolan        Tom Hardy    Christian Bale  Joseph Gordon-Levitt   \n",
       "4        Doug Walker      Doug Walker        Rob Walker               unknown   \n",
       "\n",
       "                            genres  \\\n",
       "0  Action Adventure Fantasy Sci-Fi   \n",
       "1         Action Adventure Fantasy   \n",
       "2        Action Adventure Thriller   \n",
       "3                  Action Thriller   \n",
       "4                      Documentary   \n",
       "\n",
       "                                         movie_title  \\\n",
       "0                                             avatar   \n",
       "1           pirates of the caribbean: at world's end   \n",
       "2                                            spectre   \n",
       "3                              the dark knight rises   \n",
       "4  star wars: episode vii - the force awakens    ...   \n",
       "\n",
       "                                                comb  \n",
       "0  CCH Pounder Joel David Moore Wes Studi James C...  \n",
       "1  Johnny Depp Orlando Bloom Jack Davenport Gore ...  \n",
       "2  Christoph Waltz Rory Kinnear Stephanie Sigman ...  \n",
       "3  Tom Hardy Christian Bale Joseph Gordon-Levitt ...  \n",
       "4  Doug Walker Rob Walker unknown Doug Walker Doc...  "
      ],
      "text/html": "<div>\n<style scoped>\n    .dataframe tbody tr th:only-of-type {\n        vertical-align: middle;\n    }\n\n    .dataframe tbody tr th {\n        vertical-align: top;\n    }\n\n    .dataframe thead th {\n        text-align: right;\n    }\n</style>\n<table border=\"1\" class=\"dataframe\">\n  <thead>\n    <tr style=\"text-align: right;\">\n      <th></th>\n      <th>director_name</th>\n      <th>actor_1_name</th>\n      <th>actor_2_name</th>\n      <th>actor_3_name</th>\n      <th>genres</th>\n      <th>movie_title</th>\n      <th>comb</th>\n    </tr>\n  </thead>\n  <tbody>\n    <tr>\n      <th>0</th>\n      <td>James Cameron</td>\n      <td>CCH Pounder</td>\n      <td>Joel David Moore</td>\n      <td>Wes Studi</td>\n      <td>Action Adventure Fantasy Sci-Fi</td>\n      <td>avatar</td>\n      <td>CCH Pounder Joel David Moore Wes Studi James C...</td>\n    </tr>\n    <tr>\n      <th>1</th>\n      <td>Gore Verbinski</td>\n      <td>Johnny Depp</td>\n      <td>Orlando Bloom</td>\n      <td>Jack Davenport</td>\n      <td>Action Adventure Fantasy</td>\n      <td>pirates of the caribbean: at world's end</td>\n      <td>Johnny Depp Orlando Bloom Jack Davenport Gore ...</td>\n    </tr>\n    <tr>\n      <th>2</th>\n      <td>Sam Mendes</td>\n      <td>Christoph Waltz</td>\n      <td>Rory Kinnear</td>\n      <td>Stephanie Sigman</td>\n      <td>Action Adventure Thriller</td>\n      <td>spectre</td>\n      <td>Christoph Waltz Rory Kinnear Stephanie Sigman ...</td>\n    </tr>\n    <tr>\n      <th>3</th>\n      <td>Christopher Nolan</td>\n      <td>Tom Hardy</td>\n      <td>Christian Bale</td>\n      <td>Joseph Gordon-Levitt</td>\n      <td>Action Thriller</td>\n      <td>the dark knight rises</td>\n      <td>Tom Hardy Christian Bale Joseph Gordon-Levitt ...</td>\n    </tr>\n    <tr>\n      <th>4</th>\n      <td>Doug Walker</td>\n      <td>Doug Walker</td>\n      <td>Rob Walker</td>\n      <td>unknown</td>\n      <td>Documentary</td>\n      <td>star wars: episode vii - the force awakens    ...</td>\n      <td>Doug Walker Rob Walker unknown Doug Walker Doc...</td>\n    </tr>\n  </tbody>\n</table>\n</div>"
     },
     "metadata": {},
     "execution_count": 112
    }
   ],
   "source": [
    "final_df.head()"
   ]
  },
  {
   "cell_type": "code",
   "execution_count": 113,
   "metadata": {},
   "outputs": [
    {
     "output_type": "execute_result",
     "data": {
      "text/plain": [
       "director_name    0\n",
       "actor_1_name     0\n",
       "actor_2_name     0\n",
       "actor_3_name     0\n",
       "genres           0\n",
       "movie_title      0\n",
       "comb             0\n",
       "dtype: int64"
      ]
     },
     "metadata": {},
     "execution_count": 113
    }
   ],
   "source": [
    "final_df.isna().sum()"
   ]
  },
  {
   "cell_type": "code",
   "execution_count": 114,
   "metadata": {},
   "outputs": [],
   "source": [
    "final_df = final_df.dropna(how='any')"
   ]
  },
  {
   "cell_type": "code",
   "execution_count": 115,
   "metadata": {},
   "outputs": [
    {
     "output_type": "execute_result",
     "data": {
      "text/plain": [
       "director_name    0\n",
       "actor_1_name     0\n",
       "actor_2_name     0\n",
       "actor_3_name     0\n",
       "genres           0\n",
       "movie_title      0\n",
       "comb             0\n",
       "dtype: int64"
      ]
     },
     "metadata": {},
     "execution_count": 115
    }
   ],
   "source": [
    "final_df.isna().sum()"
   ]
  },
  {
   "cell_type": "code",
   "execution_count": 116,
   "metadata": {},
   "outputs": [],
   "source": [
    "final_df.to_csv('C://Users/Gaurishankar/Desktop/datasets/final_data.csv',index=False)"
   ]
  },
  {
   "cell_type": "code",
   "execution_count": null,
   "metadata": {},
   "outputs": [],
   "source": []
  }
 ],
 "metadata": {
  "kernelspec": {
   "display_name": "Python 3",
   "language": "python",
   "name": "python3"
  },
  "language_info": {
   "codemirror_mode": {
    "name": "ipython",
    "version": 3
   },
   "file_extension": ".py",
   "mimetype": "text/x-python",
   "name": "python",
   "nbconvert_exporter": "python",
   "pygments_lexer": "ipython3",
   "version": "3.7.3"
  }
 },
 "nbformat": 4,
 "nbformat_minor": 2
}